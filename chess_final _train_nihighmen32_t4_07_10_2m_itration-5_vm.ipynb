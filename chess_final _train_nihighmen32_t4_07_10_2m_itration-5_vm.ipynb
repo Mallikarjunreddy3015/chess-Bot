{
  "cells": [
    {
      "cell_type": "code",
      "execution_count": 1,
      "metadata": {
        "colab": {
          "base_uri": "https://localhost:8080/"
        },
        "id": "uXu6D-nv_Z3N",
        "outputId": "e9a5dcd2-5be9-4345-dd14-8a862cf43c66",
        "executionInfo": {
          "status": "ok",
          "timestamp": 1697018864117,
          "user_tz": -330,
          "elapsed": 26451,
          "user": {
            "displayName": "",
            "userId": ""
          }
        }
      },
      "outputs": [
        {
          "output_type": "stream",
          "name": "stdout",
          "text": [
            "Requirement already satisfied: python-chess in /usr/local/lib/python3.10/dist-packages (1.999)\n",
            "Requirement already satisfied: chess<2,>=1 in /usr/local/lib/python3.10/dist-packages (from python-chess) (1.10.0)\n",
            "Requirement already satisfied: psutil in /usr/local/lib/python3.10/dist-packages (5.9.5)\n",
            "Requirement already satisfied: google-cloud-storage in /usr/local/lib/python3.10/dist-packages (2.8.0)\n",
            "Requirement already satisfied: google-auth<3.0dev,>=1.25.0 in /usr/local/lib/python3.10/dist-packages (from google-cloud-storage) (2.17.3)\n",
            "Requirement already satisfied: google-api-core!=2.0.*,!=2.1.*,!=2.2.*,!=2.3.0,<3.0.0dev,>=1.31.5 in /usr/local/lib/python3.10/dist-packages (from google-cloud-storage) (2.11.1)\n",
            "Requirement already satisfied: google-cloud-core<3.0dev,>=2.3.0 in /usr/local/lib/python3.10/dist-packages (from google-cloud-storage) (2.3.3)\n",
            "Requirement already satisfied: google-resumable-media>=2.3.2 in /usr/local/lib/python3.10/dist-packages (from google-cloud-storage) (2.6.0)\n",
            "Requirement already satisfied: requests<3.0.0dev,>=2.18.0 in /usr/local/lib/python3.10/dist-packages (from google-cloud-storage) (2.31.0)\n",
            "Requirement already satisfied: googleapis-common-protos<2.0.dev0,>=1.56.2 in /usr/local/lib/python3.10/dist-packages (from google-api-core!=2.0.*,!=2.1.*,!=2.2.*,!=2.3.0,<3.0.0dev,>=1.31.5->google-cloud-storage) (1.60.0)\n",
            "Requirement already satisfied: protobuf!=3.20.0,!=3.20.1,!=4.21.0,!=4.21.1,!=4.21.2,!=4.21.3,!=4.21.4,!=4.21.5,<5.0.0.dev0,>=3.19.5 in /usr/local/lib/python3.10/dist-packages (from google-api-core!=2.0.*,!=2.1.*,!=2.2.*,!=2.3.0,<3.0.0dev,>=1.31.5->google-cloud-storage) (3.20.3)\n",
            "Requirement already satisfied: cachetools<6.0,>=2.0.0 in /usr/local/lib/python3.10/dist-packages (from google-auth<3.0dev,>=1.25.0->google-cloud-storage) (5.3.1)\n",
            "Requirement already satisfied: pyasn1-modules>=0.2.1 in /usr/local/lib/python3.10/dist-packages (from google-auth<3.0dev,>=1.25.0->google-cloud-storage) (0.3.0)\n",
            "Requirement already satisfied: six>=1.9.0 in /usr/local/lib/python3.10/dist-packages (from google-auth<3.0dev,>=1.25.0->google-cloud-storage) (1.16.0)\n",
            "Requirement already satisfied: rsa<5,>=3.1.4 in /usr/local/lib/python3.10/dist-packages (from google-auth<3.0dev,>=1.25.0->google-cloud-storage) (4.9)\n",
            "Requirement already satisfied: google-crc32c<2.0dev,>=1.0 in /usr/local/lib/python3.10/dist-packages (from google-resumable-media>=2.3.2->google-cloud-storage) (1.5.0)\n",
            "Requirement already satisfied: charset-normalizer<4,>=2 in /usr/local/lib/python3.10/dist-packages (from requests<3.0.0dev,>=2.18.0->google-cloud-storage) (3.2.0)\n",
            "Requirement already satisfied: idna<4,>=2.5 in /usr/local/lib/python3.10/dist-packages (from requests<3.0.0dev,>=2.18.0->google-cloud-storage) (3.4)\n",
            "Requirement already satisfied: urllib3<3,>=1.21.1 in /usr/local/lib/python3.10/dist-packages (from requests<3.0.0dev,>=2.18.0->google-cloud-storage) (2.0.4)\n",
            "Requirement already satisfied: certifi>=2017.4.17 in /usr/local/lib/python3.10/dist-packages (from requests<3.0.0dev,>=2.18.0->google-cloud-storage) (2023.7.22)\n",
            "Requirement already satisfied: pyasn1<0.6.0,>=0.4.6 in /usr/local/lib/python3.10/dist-packages (from pyasn1-modules>=0.2.1->google-auth<3.0dev,>=1.25.0->google-cloud-storage) (0.5.0)\n"
          ]
        }
      ],
      "source": [
        "!pip install python-chess\n",
        "!pip install psutil\n",
        "!pip install google-cloud-storage\n",
        "\n",
        "import numpy as np\n",
        "import pandas as pd\n",
        "import glob\n",
        "import os\n",
        "import chess\n"
      ]
    },
    {
      "cell_type": "code",
      "source": [
        "import os\n",
        "\n",
        "os.environ[\"GOOGLE_APPLICATION_CREDENTIALS\"] = \"/content/gleaming-modem-400906-3780658b0f47.json\"\n",
        "from google.cloud import storage\n",
        "\n",
        "def download_from_bucket(blob_name, path_to_save_to, bucket_name):\n",
        "    client = storage.Client()\n",
        "\n",
        "    bucket = client.get_bucket(bucket_name)\n",
        "    blob = bucket.blob(blob_name)\n",
        "    blob.download_to_filename(path_to_save_to)\n",
        "    print(f\"File {blob_name} downloaded to {path_to_save_to}.\")\n",
        "\n",
        "# Use the function to download your file:\n",
        "download_from_bucket(\"final_4M_bits.npy\", \"/content/final_4M_bits.npy\", \"chess_data_all\")\n",
        "download_from_bucket(\"final_4M_labels.npy\", \"/content/final_4M_labels.npy\", \"chess_data_all\")\n"
      ],
      "metadata": {
        "colab": {
          "base_uri": "https://localhost:8080/"
        },
        "id": "_SV1_hnRi4En",
        "executionInfo": {
          "status": "ok",
          "timestamp": 1696964646698,
          "user_tz": -330,
          "elapsed": 1146201,
          "user": {
            "displayName": "",
            "userId": ""
          }
        },
        "outputId": "eeec0a8d-7ed3-4c22-edf9-6aaee6a5a33f"
      },
      "execution_count": null,
      "outputs": [
        {
          "output_type": "stream",
          "name": "stdout",
          "text": [
            "File final_4M_bits.npy downloaded to /content/final_4M_bits.npy.\n",
            "File final_4M_labels.npy downloaded to /content/final_4M_labels.npy.\n"
          ]
        }
      ]
    },
    {
      "cell_type": "code",
      "execution_count": 2,
      "metadata": {
        "id": "bnfn9WPEni1p",
        "executionInfo": {
          "status": "ok",
          "timestamp": 1697018971581,
          "user_tz": -330,
          "elapsed": 107467,
          "user": {
            "displayName": "",
            "userId": ""
          }
        }
      },
      "outputs": [],
      "source": [
        "bitboard_dataset=np.load(\"/content/final_4M_bits.npy\")\n",
        "labels=np.load(\"/content/final_4M_labels.npy\")"
      ]
    },
    {
      "cell_type": "code",
      "source": [
        "bitboard_dataset2=bitboard_dataset[:1000000]\n",
        "labels2=labels[:1000000]\n"
      ],
      "metadata": {
        "id": "wwHRx5f__Krh",
        "executionInfo": {
          "status": "ok",
          "timestamp": 1697018971582,
          "user_tz": -330,
          "elapsed": 13,
          "user": {
            "displayName": "",
            "userId": ""
          }
        }
      },
      "execution_count": 3,
      "outputs": []
    },
    {
      "cell_type": "code",
      "source": [
        "# print(bitboard_dataset2.shape ,bitboard_dataset2[0])\n",
        "# print(labels2.shape ,labels2[0])"
      ],
      "metadata": {
        "id": "CkrhPafx9Sxh",
        "executionInfo": {
          "status": "ok",
          "timestamp": 1697018971582,
          "user_tz": -330,
          "elapsed": 12,
          "user": {
            "displayName": "",
            "userId": ""
          }
        }
      },
      "execution_count": 4,
      "outputs": []
    },
    {
      "cell_type": "code",
      "source": [
        "from tensorflow.keras import layers\n",
        "from tensorflow.keras.models import Model\n",
        "from sklearn.model_selection import train_test_split\n",
        "from sklearn.utils import shuffle\n",
        "from tensorflow import keras\n",
        "from tensorflow.keras.layers import Input, Conv2D, Conv3D, Flatten, Dense, Concatenate\n",
        "from tensorflow.keras.activations import relu\n",
        "import tensorflow as tf\n",
        "from tensorflow.keras.layers import DepthwiseConv2D\n",
        "\n",
        "bitboard_dataset = bitboard_dataset.transpose(0, 2, 3, 1)\n",
        "# ... Assuming bitboard_dataset and labels are defined ...\n",
        "\n",
        "bitboard_dataset, labels = shuffle(bitboard_dataset, labels)\n",
        "X_train, X_test, y_train, y_test = train_test_split(bitboard_dataset, labels, test_size=0.1)\n",
        "\n",
        "\n",
        "# Input layer\n",
        "input_layer_2d = layers.Input(shape=(8, 8, 16))  # for 2D convolutions\n"
      ],
      "metadata": {
        "id": "cjyNKNin14dd",
        "executionInfo": {
          "status": "ok",
          "timestamp": 1697019015886,
          "user_tz": -330,
          "elapsed": 44316,
          "user": {
            "displayName": "",
            "userId": ""
          }
        }
      },
      "execution_count": 5,
      "outputs": []
    },
    {
      "cell_type": "code",
      "source": [
        "from tensorflow.keras.layers import BatchNormalization, Dropout, Activation\n",
        "\n",
        "# # Branch 1: Depthwise Convolution\n",
        "# branch1 = DepthwiseConv2D(kernel_size=(1, 1), depth_multiplier=1, activation=relu)(input_layer_2d)\n",
        "# branch1 = BatchNormalization()(branch1)\n",
        "\n",
        "\n",
        "#branch 4 : conv2D(branch1)\n",
        "branch4 = Conv2D(filters=20, kernel_size=(1, 1), activation=relu)(input_layer_2d)\n",
        "branch4 = Conv2D(filters=10, kernel_size=(1, 1), activation=relu)(branch4)\n",
        "branch4 = BatchNormalization()(branch4)\n",
        "\n",
        "\n",
        "# Branch 3: Conv3 (Only to the 15th channel)\n",
        "branch3_input = tf.gather(input_layer_2d, [13,14], axis=3)  # Extract the 15th channel\n",
        "branch3 = Conv2D(filters=20, kernel_size=(1,1), activation=relu)(branch3_input)\n",
        "branch3 = Conv2D(filters=1, kernel_size=(1, 1), activation=relu)(branch3)\n",
        "branch3 = Conv2D(filters=1, kernel_size=(8, 8), activation=relu)(branch3)\n",
        "branch3 = BatchNormalization()(branch3)\n",
        "\n",
        "# branch1 = Flatten()(branch1)\n",
        "branch4 = Flatten()(branch4)\n",
        "branch3 = Flatten()(branch3)\n",
        "\n",
        "concat = Concatenate()([branch4, branch3])\n",
        "\n",
        "dense1 = Dense(2000)(concat)\n",
        "dense1 = BatchNormalization()(dense1)\n",
        "dense1 = Activation('relu')(dense1)\n",
        "dense1 = Dropout(0.25)(dense1)\n",
        "\n",
        "dense2 = Dense(1000)(dense1)\n",
        "dense2 = BatchNormalization()(dense2)\n",
        "dense2 = Activation('relu')(dense2)\n",
        "dense2 = Dropout(0.25)(dense2)\n",
        "\n",
        "dense3 = Dense(500)(dense2)\n",
        "dense3 = BatchNormalization()(dense3)\n",
        "dense3 = Activation('relu')(dense3)\n",
        "dense3 = Dropout(0.25)(dense3)\n",
        "\n",
        "dense4 = Dense(200)(dense3)\n",
        "dense4 = BatchNormalization()(dense4)\n",
        "dense4 = Activation('relu')(dense4)\n",
        "dense4 = Dropout(0.25)(dense4)\n",
        "\n",
        "output_layer = Dense(1)(dense4)\n",
        "\n",
        "# Create the model\n",
        "model = Model(inputs=input_layer_2d, outputs=output_layer)\n",
        "model.compile(optimizer='adam', loss='mean_squared_error', metrics=['mae'])\n",
        "\n",
        "# Train the model\n",
        "model.fit(X_train, y_train, epochs=200, batch_size=50, validation_split=0.1)\n",
        "\n",
        "# Evaluate the model\n",
        "loss, mae= model.evaluate(X_test, y_test)\n",
        "print(\"Test Loss:\", loss)\n",
        "print(\"Mean Absolute Error:\", mae)"
      ],
      "metadata": {
        "id": "tQeo2FuNIIkp",
        "colab": {
          "base_uri": "https://localhost:8080/"
        },
        "outputId": "2878d62d-7566-4d15-db05-bd75426fe41a"
      },
      "execution_count": null,
      "outputs": [
        {
          "output_type": "stream",
          "name": "stdout",
          "text": [
            "Epoch 1/200\n",
            "63771/64024 [============================>.] - ETA: 2s - loss: 8442.0811 - mae: 38.3354"
          ]
        }
      ]
    },
    {
      "cell_type": "code",
      "source": [
        "model.save(\"model.h5\")\n"
      ],
      "metadata": {
        "id": "PKerQMNzOLOx"
      },
      "execution_count": null,
      "outputs": []
    }
  ],
  "metadata": {
    "accelerator": "GPU",
    "colab": {
      "provenance": [],
      "gpuType": "T4"
    },
    "kernelspec": {
      "display_name": "Python 3",
      "name": "python3"
    },
    "language_info": {
      "codemirror_mode": {
        "name": "ipython",
        "version": 3
      },
      "file_extension": ".py",
      "mimetype": "text/x-python",
      "name": "python",
      "nbconvert_exporter": "python",
      "pygments_lexer": "ipython3",
      "version": "3.9.17"
    }
  },
  "nbformat": 4,
  "nbformat_minor": 0
}