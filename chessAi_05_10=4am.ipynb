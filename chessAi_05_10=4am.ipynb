{
  "cells": [
    {
      "cell_type": "code",
      "execution_count": 1,
      "metadata": {
        "colab": {
          "base_uri": "https://localhost:8080/"
        },
        "id": "FeCoY3TqrFPi",
        "outputId": "d3e31b18-391c-4db7-9606-3630092dbf88"
      },
      "outputs": [
        {
          "output_type": "stream",
          "name": "stdout",
          "text": [
            "Mounted at /content/drive\n"
          ]
        }
      ],
      "source": [
        "from google.colab import drive\n",
        "drive.mount('/content/drive')"
      ]
    },
    {
      "cell_type": "code",
      "execution_count": 2,
      "metadata": {
        "id": "uXu6D-nv_Z3N",
        "colab": {
          "base_uri": "https://localhost:8080/"
        },
        "outputId": "7c1ec833-b1e5-48ca-a779-9170c4109d71"
      },
      "outputs": [
        {
          "output_type": "stream",
          "name": "stdout",
          "text": [
            "Collecting python-chess\n",
            "  Downloading python_chess-1.999-py3-none-any.whl (1.4 kB)\n",
            "Collecting chess<2,>=1 (from python-chess)\n",
            "  Downloading chess-1.10.0-py3-none-any.whl (154 kB)\n",
            "\u001b[2K     \u001b[90m━━━━━━━━━━━━━━━━━━━━━━━━━━━━━━━━━━━━━━━\u001b[0m \u001b[32m154.4/154.4 kB\u001b[0m \u001b[31m3.4 MB/s\u001b[0m eta \u001b[36m0:00:00\u001b[0m\n",
            "\u001b[?25hInstalling collected packages: chess, python-chess\n",
            "Successfully installed chess-1.10.0 python-chess-1.999\n"
          ]
        }
      ],
      "source": [
        "!pip install python-chess\n",
        "import tensorflow as tf\n",
        "from tensorflow.keras import layers\n",
        "import numpy as np\n",
        "import pandas as pd\n",
        "import glob\n",
        "import os\n"
      ]
    },
    {
      "cell_type": "code",
      "execution_count": 3,
      "metadata": {
        "id": "bPvv15KtoS7k"
      },
      "outputs": [],
      "source": [
        "# dataframe = pd.read_csv('/content/drive/MyDrive/chessData.csv')"
      ]
    },
    {
      "cell_type": "code",
      "execution_count": null,
      "metadata": {
        "id": "1yQdZKrXsNU3"
      },
      "outputs": [],
      "source": [
        "dataframe.head()\n",
        "d=dataframe"
      ]
    },
    {
      "cell_type": "code",
      "execution_count": null,
      "metadata": {
        "id": "XQdVPluX9Ngk"
      },
      "outputs": [],
      "source": [
        "d.shape\n",
        "d1=d.iloc[0:100000]"
      ]
    },
    {
      "cell_type": "code",
      "source": [
        "d1 = d1[~d1['Evaluation'].str.contains('\\ufeff|#', na=False)]\n",
        "d1['Evaluation'] = pd.to_numeric(d1['Evaluation'].str.replace('[^\\d.-]', '', regex=True), errors='coerce')\n",
        "# labels=d1['Evaluation']\n",
        "d1['Scaled_Evaluation'] = 1000 * (2 * (d1['Evaluation'] +7000) / (14000) - 1)\n",
        "labels=d1['Scaled_Evaluation']"
      ],
      "metadata": {
        "id": "Lwx6-SCu67aK"
      },
      "execution_count": null,
      "outputs": []
    },
    {
      "cell_type": "code",
      "source": [
        "import chess\n",
        "import numpy as np\n",
        "\n",
        "def create_bitboard(fen):\n",
        "    # Setting up the piece values\n",
        "    piece_values = {\n",
        "        'P': 11, 'p': -11, 'N': 44, 'n': -44, 'B': 33, 'b': -33, 'R': 55,\n",
        "        'r': -55, 'Q': 99, 'q': -99, 'K': 110, 'k': -110\n",
        "    }\n",
        "\n",
        "    # Mapping piece symbols to bitboard layers\n",
        "    piece_to_layer = {\n",
        "        'P': 0, 'p': 1, 'N': 2, 'n': 3, 'B': 4, 'b': 5, 'R': 6, 'r': 7, 'Q': 8,\n",
        "        'q': 9, 'K': 10, 'k': 11\n",
        "    }\n",
        "\n",
        "    # Create an empty bitboard of shape (12, 8, 8) using numpy\n",
        "    en_passant_layer = 12\n",
        "    white_values_layer = 13\n",
        "    black_values_layer = 14\n",
        "\n",
        "    bitboard = np.zeros((15, 8, 8))\n",
        "\n",
        "    board = chess.Board(fen)\n",
        "    if board.ep_square is not None:\n",
        "        rank, file = divmod(board.ep_square, 8)\n",
        "        bitboard[en_passant_layer][rank][file] = 1 if board.turn == chess.WHITE else -1\n",
        "    computed_moves = {}\n",
        "\n",
        "    for piece_type, piece_value in piece_values.items():\n",
        "        layer = piece_to_layer[piece_type]\n",
        "\n",
        "        if piece_type not in computed_moves:\n",
        "            valid_moves = set()\n",
        "            empty_board_moves = set()\n",
        "            for square in chess.SQUARES:\n",
        "                piece = board.piece_at(square)\n",
        "                if piece and piece.symbol() == piece_type:\n",
        "                    # Generate moves for both colors irrespective of turn\n",
        "                    board.turn = chess.WHITE\n",
        "                    moves_white = [move for move in board.legal_moves if move.from_square == square]\n",
        "                    board.turn = chess.BLACK\n",
        "                    moves_black = [move for move in board.legal_moves if move.from_square == square]\n",
        "                    valid_moves.update([move.to_square for move in moves_white])\n",
        "                    valid_moves.update([move.to_square for move in moves_black])\n",
        "\n",
        "                    empty_board = chess.Board()\n",
        "                    empty_board.clear()\n",
        "                    empty_board.set_piece_at(square, piece)\n",
        "                    # Generate moves for both colors irrespective of turn on the empty board\n",
        "                    empty_board.turn = chess.WHITE\n",
        "                    empty_moves_white = [move for move in empty_board.generate_legal_moves(from_mask=chess.BB_SQUARES[square])]\n",
        "                    empty_board.turn = chess.BLACK\n",
        "                    empty_moves_black = [move for move in empty_board.generate_legal_moves(from_mask=chess.BB_SQUARES[square])]\n",
        "                    empty_board_moves.update([move.to_square for move in empty_moves_white])\n",
        "                    empty_board_moves.update([move.to_square for move in empty_moves_black])\n",
        "\n",
        "            computed_moves[piece_type] = (valid_moves, empty_board_moves)\n",
        "\n",
        "        valid_moves, empty_board_moves = computed_moves[piece_type]\n",
        "\n",
        "        for square in chess.SQUARES:\n",
        "            rank, file = divmod(square, 8)\n",
        "            piece = board.piece_at(square)\n",
        "            if piece:\n",
        "                if piece.color == chess.WHITE:\n",
        "                    bitboard[white_values_layer][rank][file] = piece_values[piece.symbol()]\n",
        "                else:\n",
        "                    bitboard[black_values_layer][rank][file] = piece_values[piece.symbol()]\n",
        "            if piece and piece.symbol() == piece_type:\n",
        "                bitboard[layer][rank][file] = piece_value\n",
        "            elif square in valid_moves:\n",
        "                bitboard[layer][rank][file] = piece_value / 11\n",
        "            elif square in empty_board_moves:\n",
        "                bitboard[layer][rank][file] = piece_value / 22\n",
        "\n",
        "    return bitboard\n",
        "bitboard_dataset = [create_bitboard(fen) for fen in np.array(d1['FEN'])]\n",
        "# print(generate_bitboard_with_moves(d1[\"FEN\"][1]))\n",
        "\n"
      ],
      "metadata": {
        "id": "5E2_BSaFcWiJ"
      },
      "execution_count": null,
      "outputs": []
    },
    {
      "cell_type": "code",
      "source": [
        "# np.save('/content/drive/MyDrive/bitboard_dataset_0.5.npy', \"bitboard_dataset\")\n",
        "\n",
        "# np.save('/content/drive/MyDrive/labels_dataset_0.5M.npy', labels)\n",
        "\n",
        "bitboard_dataset=np.load(\"/content/drive/MyDrive/bitboard_dataset_0.5.npy\")[0:400000]\n",
        "labels=np.load(\"/content/labels_dataset_0.5M.npy\")[0:400000]\n",
        "# import shutil\n",
        "\n",
        "# shutil.copy2('/content/bitboard_dataset_1M.npy', '/content/drive/MyDrive/bitboard_dataset_0.5.npy')\n",
        "# # shutil.copy2('/content/labels_dataset_1M.npy', '/content/drive/MyDrive/labels_dataset_0.5M.npy')\n"
      ],
      "metadata": {
        "id": "wO0GzRzVFbR2"
      },
      "execution_count": 3,
      "outputs": []
    },
    {
      "cell_type": "code",
      "source": [
        "print(bitboard_dataset.shape)\n",
        "print(labels.shape)"
      ],
      "metadata": {
        "colab": {
          "base_uri": "https://localhost:8080/"
        },
        "id": "9R9tx4vtmquf",
        "outputId": "d8c93322-6b50-4a20-b8f3-1b6987054c07"
      },
      "execution_count": 4,
      "outputs": [
        {
          "output_type": "stream",
          "name": "stdout",
          "text": [
            "(400000, 15, 8, 8)\n",
            "(400000,)\n"
          ]
        }
      ]
    },
    {
      "cell_type": "code",
      "execution_count": null,
      "metadata": {
        "id": "y9qEfiSErKrv"
      },
      "outputs": [],
      "source": [
        "from tensorflow.keras import layers\n",
        "from tensorflow.keras.models import Model\n",
        "from sklearn.model_selection import train_test_split\n",
        "from sklearn.utils import shuffle\n",
        "from tensorflow import keras\n",
        "from tensorflow.keras.layers import Input, Conv2D, Conv3D, Flatten, Dense, Concatenate\n",
        "from tensorflow.keras.activations import relu\n",
        "import tensorflow as tf\n",
        "from tensorflow.keras.layers import DepthwiseConv2D\n",
        "\n",
        "\n",
        "# ... Assuming bitboard_dataset and labels are defined ...\n",
        "\n",
        "bitboard_dataset, labels = shuffle(bitboard_dataset, labels)\n",
        "X_train, X_test, y_train, y_test = train_test_split(bitboard_dataset, labels, test_size=0.2, random_state=42)\n",
        "\n",
        "# Radial Basis Function activation\n",
        "def rbf(x):\n",
        "    return tf.exp(-x**2)\n",
        "\n",
        "# Input layer\n",
        "input_layer_2d = layers.Input(shape=(15,8, 8))  # for 2D convolutions\n",
        "input_layer_3d = layers.Reshape((15, 8, 8, 1))(input_layer_2d)  # for 3D convolutions\n",
        "\n",
        "# Branch 1: Depthwise Convolution\n",
        "branch1 = DepthwiseConv2D(kernel_size=(1, 1), depth_multiplier=1, activation=relu)(input_layer_2d)\n",
        "branch1 = Conv2D(filters=15, kernel_size=(8, 8), activation=relu)(branch1)\n",
        "branch1 = Flatten()(branch1)  # Flatten branch1\n",
        "# Branch 2: Conv3D\n",
        "branch2 = Conv3D(filters=16, kernel_size=(5, 5, 5), padding='valid', activation=relu)(input_layer_3d)\n",
        "branch2 = Conv3D(filters=8, kernel_size=(3, 3, 3), padding='valid', activation=relu)(branch2)\n",
        "branch2 = Flatten()(branch2)  # Flatten branch2\n",
        "\n",
        "# Branch 3: Conv3 (Only to the 15th channel)\n",
        "branch3_input = tf.gather(input_layer_2d, [13,14], axis=3)  # Extract the 15th channel\n",
        "branch3 = Conv2D(filters=16, kernel_size=(3, 3), activation=relu)(branch3_input)\n",
        "branch3 = Conv2D(filters=8, kernel_size=(1, 1), activation=relu)(branch3)\n",
        "branch3 = Flatten()(branch3)  # Flatten branch3\n",
        "\n",
        "# Branch 4: Conv1\n",
        "branch4_input = tf.gather(input_layer_2d, [13,14], axis=3)\n",
        "branch4 = Conv2D(filters=15, kernel_size=(8, 8), activation=relu)(branch4_input)\n",
        "branch4 = Flatten()(branch4)  # Flatten branch1\n",
        "# Concatenate the outputs from the three branches\n",
        "concat = Concatenate()([branch1, branch2, branch3,branch4])\n",
        "\n",
        "# Dense layers\n",
        "dense1 = Dense(64, activation='relu')(concat)\n",
        "dense2 = Dense(32, activation='relu')(dense1)\n",
        "dense3 = Dense(16, activation='relu')(dense2)\n",
        "output_layer = Dense(1)(dense3)  # No activation function for regression\n",
        "\n",
        "# Create the model\n",
        "model = Model(inputs=input_layer_2d, outputs=output_layer)\n",
        "model.compile(optimizer='adam', loss='mean_squared_error', metrics=['mae', 'mape'])\n",
        "\n",
        "# Train the model\n",
        "model.fit(X_train, y_train, epochs=200, batch_size=1000, validation_split=0.1)\n",
        "\n",
        "# Evaluate the model\n",
        "loss, mae, mape = model.evaluate(X_test, y_test)\n",
        "print(\"Test Loss:\", loss)\n",
        "print(\"Mean Absolute Error:\", mae)\n",
        "print(\"Mean Absolute Percentage Error:\", mape)\n"
      ]
    }
  ],
  "metadata": {
    "colab": {
      "provenance": []
    },
    "kernelspec": {
      "display_name": "Python 3",
      "name": "python3"
    },
    "language_info": {
      "codemirror_mode": {
        "name": "ipython",
        "version": 3
      },
      "file_extension": ".py",
      "mimetype": "text/x-python",
      "name": "python",
      "nbconvert_exporter": "python",
      "pygments_lexer": "ipython3",
      "version": "3.9.17"
    }
  },
  "nbformat": 4,
  "nbformat_minor": 0
}