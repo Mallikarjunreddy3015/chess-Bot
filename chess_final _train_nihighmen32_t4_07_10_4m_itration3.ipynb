{
  "cells": [
    {
      "cell_type": "code",
      "execution_count": 3,
      "metadata": {
        "colab": {
          "base_uri": "https://localhost:8080/"
        },
        "id": "uXu6D-nv_Z3N",
        "outputId": "f98916f9-9550-424e-dcb3-22520c2adf00",
        "executionInfo": {
          "status": "ok",
          "timestamp": 1696705115851,
          "user_tz": -330,
          "elapsed": 17474,
          "user": {
            "displayName": "",
            "userId": ""
          }
        }
      },
      "outputs": [
        {
          "output_type": "stream",
          "name": "stdout",
          "text": [
            "Requirement already satisfied: python-chess in /usr/local/lib/python3.10/dist-packages (1.999)\n",
            "Requirement already satisfied: chess<2,>=1 in /usr/local/lib/python3.10/dist-packages (from python-chess) (1.10.0)\n",
            "Requirement already satisfied: psutil in /usr/local/lib/python3.10/dist-packages (5.9.5)\n",
            "Requirement already satisfied: google-cloud-storage in /usr/local/lib/python3.10/dist-packages (2.8.0)\n",
            "Requirement already satisfied: google-auth<3.0dev,>=1.25.0 in /usr/local/lib/python3.10/dist-packages (from google-cloud-storage) (2.17.3)\n",
            "Requirement already satisfied: google-api-core!=2.0.*,!=2.1.*,!=2.2.*,!=2.3.0,<3.0.0dev,>=1.31.5 in /usr/local/lib/python3.10/dist-packages (from google-cloud-storage) (2.11.1)\n",
            "Requirement already satisfied: google-cloud-core<3.0dev,>=2.3.0 in /usr/local/lib/python3.10/dist-packages (from google-cloud-storage) (2.3.3)\n",
            "Requirement already satisfied: google-resumable-media>=2.3.2 in /usr/local/lib/python3.10/dist-packages (from google-cloud-storage) (2.6.0)\n",
            "Requirement already satisfied: requests<3.0.0dev,>=2.18.0 in /usr/local/lib/python3.10/dist-packages (from google-cloud-storage) (2.31.0)\n",
            "Requirement already satisfied: googleapis-common-protos<2.0.dev0,>=1.56.2 in /usr/local/lib/python3.10/dist-packages (from google-api-core!=2.0.*,!=2.1.*,!=2.2.*,!=2.3.0,<3.0.0dev,>=1.31.5->google-cloud-storage) (1.60.0)\n",
            "Requirement already satisfied: protobuf!=3.20.0,!=3.20.1,!=4.21.0,!=4.21.1,!=4.21.2,!=4.21.3,!=4.21.4,!=4.21.5,<5.0.0.dev0,>=3.19.5 in /usr/local/lib/python3.10/dist-packages (from google-api-core!=2.0.*,!=2.1.*,!=2.2.*,!=2.3.0,<3.0.0dev,>=1.31.5->google-cloud-storage) (3.20.3)\n",
            "Requirement already satisfied: cachetools<6.0,>=2.0.0 in /usr/local/lib/python3.10/dist-packages (from google-auth<3.0dev,>=1.25.0->google-cloud-storage) (5.3.1)\n",
            "Requirement already satisfied: pyasn1-modules>=0.2.1 in /usr/local/lib/python3.10/dist-packages (from google-auth<3.0dev,>=1.25.0->google-cloud-storage) (0.3.0)\n",
            "Requirement already satisfied: six>=1.9.0 in /usr/local/lib/python3.10/dist-packages (from google-auth<3.0dev,>=1.25.0->google-cloud-storage) (1.16.0)\n",
            "Requirement already satisfied: rsa<5,>=3.1.4 in /usr/local/lib/python3.10/dist-packages (from google-auth<3.0dev,>=1.25.0->google-cloud-storage) (4.9)\n",
            "Requirement already satisfied: google-crc32c<2.0dev,>=1.0 in /usr/local/lib/python3.10/dist-packages (from google-resumable-media>=2.3.2->google-cloud-storage) (1.5.0)\n",
            "Requirement already satisfied: charset-normalizer<4,>=2 in /usr/local/lib/python3.10/dist-packages (from requests<3.0.0dev,>=2.18.0->google-cloud-storage) (3.2.0)\n",
            "Requirement already satisfied: idna<4,>=2.5 in /usr/local/lib/python3.10/dist-packages (from requests<3.0.0dev,>=2.18.0->google-cloud-storage) (3.4)\n",
            "Requirement already satisfied: urllib3<3,>=1.21.1 in /usr/local/lib/python3.10/dist-packages (from requests<3.0.0dev,>=2.18.0->google-cloud-storage) (2.0.4)\n",
            "Requirement already satisfied: certifi>=2017.4.17 in /usr/local/lib/python3.10/dist-packages (from requests<3.0.0dev,>=2.18.0->google-cloud-storage) (2023.7.22)\n",
            "Requirement already satisfied: pyasn1<0.6.0,>=0.4.6 in /usr/local/lib/python3.10/dist-packages (from pyasn1-modules>=0.2.1->google-auth<3.0dev,>=1.25.0->google-cloud-storage) (0.5.0)\n"
          ]
        }
      ],
      "source": [
        "!pip install python-chess\n",
        "!pip install psutil\n",
        "!pip install google-cloud-storage\n",
        "\n",
        "import numpy as np\n",
        "import pandas as pd\n",
        "import glob\n",
        "import os\n",
        "import chess\n"
      ]
    },
    {
      "cell_type": "code",
      "source": [
        "import os\n",
        "\n",
        "os.environ[\"GOOGLE_APPLICATION_CREDENTIALS\"] = \"/content/gleaming-modem-400906-3780658b0f47.json\"\n",
        "from google.cloud import storage\n",
        "\n",
        "def download_from_bucket(blob_name, path_to_save_to, bucket_name):\n",
        "    client = storage.Client()\n",
        "\n",
        "    bucket = client.get_bucket(bucket_name)\n",
        "    blob = bucket.blob(blob_name)\n",
        "    blob.download_to_filename(path_to_save_to)\n",
        "    print(f\"File {blob_name} downloaded to {path_to_save_to}.\")\n",
        "\n",
        "# Use the function to download your file:\n",
        "download_from_bucket(\"final_4M_bits.npy\", \"/content/final_4M_bits.npy\", \"chess_data_all\")\n",
        "download_from_bucket(\"final_4M_labels.npy\", \"/content/final_4M_labels.npy\", \"chess_data_all\")\n"
      ],
      "metadata": {
        "colab": {
          "base_uri": "https://localhost:8080/"
        },
        "id": "_SV1_hnRi4En",
        "executionInfo": {
          "status": "ok",
          "timestamp": 1696706269080,
          "user_tz": -330,
          "elapsed": 1153272,
          "user": {
            "displayName": "",
            "userId": ""
          }
        },
        "outputId": "387f7a9d-b4ba-4c8b-f4a2-beba482ee6da"
      },
      "execution_count": 4,
      "outputs": [
        {
          "output_type": "stream",
          "name": "stdout",
          "text": [
            "File final_4M_bits.npy downloaded to /content/final_4M_bits.npy.\n",
            "File final_4M_labels.npy downloaded to /content/final_4M_labels.npy.\n"
          ]
        }
      ]
    },
    {
      "cell_type": "code",
      "execution_count": 5,
      "metadata": {
        "id": "bnfn9WPEni1p",
        "executionInfo": {
          "status": "ok",
          "timestamp": 1696706279533,
          "user_tz": -330,
          "elapsed": 10467,
          "user": {
            "displayName": "",
            "userId": ""
          }
        }
      },
      "outputs": [],
      "source": [
        "bitboard_dataset=np.load(\"/content/final_4M_bits.npy\")\n",
        "labels=np.load(\"/content/final_4M_labels.npy\")"
      ]
    },
    {
      "cell_type": "code",
      "source": [
        "bitboard_dataset=np.load(\"/content/final_4M_bits.npy\")\n",
        "bitboard_dataset2=bitboard_dataset[:2000000]\n",
        "labels2=labels2[:2000000]\n"
      ],
      "metadata": {
        "id": "wwHRx5f__Krh"
      },
      "execution_count": null,
      "outputs": []
    },
    {
      "cell_type": "code",
      "source": [
        "print(bitboard_dataset2.shape ,bitboard_dataset2[0])\n",
        "print(labels2.shape ,labels2[0])"
      ],
      "metadata": {
        "colab": {
          "base_uri": "https://localhost:8080/"
        },
        "id": "CkrhPafx9Sxh",
        "executionInfo": {
          "status": "ok",
          "timestamp": 1696706279533,
          "user_tz": -330,
          "elapsed": 15,
          "user": {
            "displayName": "",
            "userId": ""
          }
        },
        "outputId": "85083710-2a03-41e1-88ee-ce52a1117ea8"
      },
      "execution_count": 6,
      "outputs": [
        {
          "output_type": "stream",
          "name": "stdout",
          "text": [
            "(3952040, 16, 8, 8) [[[  0.   0.   0. ...   0.   0.   0.]\n",
            "  [ 11.  11.  11. ...  11.  11.  11.]\n",
            "  [  1.   1.   1. ...   1.   1.   1.]\n",
            "  ...\n",
            "  [  0.   0.   0. ...   0.   0.   0.]\n",
            "  [  0.   0.   0. ...   0.   0.   0.]\n",
            "  [  0.   0.   0. ...   0.   0.   0.]]\n",
            "\n",
            " [[  0.   0.   0. ...   0.   0.   0.]\n",
            "  [  0.   0.   0. ...   0.   0.   0.]\n",
            "  [  0.   0.   0. ...   0.   0.   0.]\n",
            "  ...\n",
            "  [ -1.  -1.  -1. ...  -1.  -1.  -1.]\n",
            "  [-11. -11. -11. ... -11. -11. -11.]\n",
            "  [  0.   0.   0. ...   0.   0.   0.]]\n",
            "\n",
            " [[  0.  44.   0. ...   0.  44.   0.]\n",
            "  [  0.   0.   0. ...   0.   0.   0.]\n",
            "  [  4.   0.   4. ...   4.   0.   4.]\n",
            "  ...\n",
            "  [  0.   0.   0. ...   0.   0.   0.]\n",
            "  [  0.   0.   0. ...   0.   0.   0.]\n",
            "  [  0.   0.   0. ...   0.   0.   0.]]\n",
            "\n",
            " ...\n",
            "\n",
            " [[ 55.  44.  33. ...  33.  44.  55.]\n",
            "  [ 11.  11.  11. ...  11.  11.  11.]\n",
            "  [  0.   0.   0. ...   0.   0.   0.]\n",
            "  ...\n",
            "  [  0.   0.   0. ...   0.   0.   0.]\n",
            "  [  0.   0.   0. ...   0.   0.   0.]\n",
            "  [  0.   0.   0. ...   0.   0.   0.]]\n",
            "\n",
            " [[  0.   0.   0. ...   0.   0.   0.]\n",
            "  [  0.   0.   0. ...   0.   0.   0.]\n",
            "  [  0.   0.   0. ...   0.   0.   0.]\n",
            "  ...\n",
            "  [  0.   0.   0. ...   0.   0.   0.]\n",
            "  [-11. -11. -11. ... -11. -11. -11.]\n",
            "  [-55. -44. -33. ... -33. -44. -55.]]\n",
            "\n",
            " [[  0.   0.   0. ...   0.   0.   0.]\n",
            "  [  0.   0.   0. ...   0.   0.   0.]\n",
            "  [  0.   0.   0. ...   0.   0.   0.]\n",
            "  ...\n",
            "  [  0.   0.   0. ...   0.   0.   0.]\n",
            "  [ -1.  -1.  -1. ...  -1.  -1.  -1.]\n",
            "  [  0.  -1.   0. ...   0.  -1.   0.]]]\n",
            "(3952040,) -1.4285714285714457\n"
          ]
        }
      ]
    },
    {
      "cell_type": "code",
      "source": [
        "from tensorflow.keras import layers\n",
        "from tensorflow.keras.models import Model\n",
        "from sklearn.model_selection import train_test_split\n",
        "from sklearn.utils import shuffle\n",
        "from tensorflow import keras\n",
        "from tensorflow.keras.layers import Input, Conv2D, Conv3D, Flatten, Dense, Concatenate\n",
        "from tensorflow.keras.activations import relu\n",
        "import tensorflow as tf\n",
        "from tensorflow.keras.layers import DepthwiseConv2D\n",
        "\n",
        "\n",
        "# ... Assuming bitboard_dataset and labels are defined ...\n",
        "\n",
        "bitboard_dataset, labels = shuffle(bitboard_dataset, labels)\n",
        "X_train, X_test, y_train, y_test = train_test_split(bitboard_dataset, labels, test_size=0.2, random_state=42)\n",
        "\n",
        "\n",
        "# Input layer\n",
        "input_layer_2d = layers.Input(shape=(16,8, 8))  # for 2D convolutions\n",
        "input_layer_3d = layers.Reshape((16, 8, 8, 1))(input_layer_2d)  # for 3D convolutions\n"
      ],
      "metadata": {
        "id": "cjyNKNin14dd",
        "executionInfo": {
          "status": "ok",
          "timestamp": 1696706305977,
          "user_tz": -330,
          "elapsed": 26456,
          "user": {
            "displayName": "",
            "userId": ""
          }
        }
      },
      "execution_count": 7,
      "outputs": []
    },
    {
      "cell_type": "code",
      "source": [
        "from tensorflow.keras.layers import BatchNormalization, Dropout, Activation\n",
        "\n",
        "# Branch 1: Depthwise Convolution\n",
        "branch1 = DepthwiseConv2D(kernel_size=(1, 1), depth_multiplier=1, activation=relu)(input_layer_2d)\n",
        "branch1 = BatchNormalization()(branch1)\n",
        "branch1 = Dropout(0.1)(branch1)\n",
        "\n",
        "\n",
        "branch4 = Conv2D(filters=3, kernel_size=(8, 8), activation=relu)(branch1)\n",
        "branch4 = BatchNormalization()(branch4)\n",
        "branch4 = Dropout(0.1)(branch4)\n",
        "# branch4 = Conv2D(filters=5, kernel_size=(2, 2), activation=relu)(branch4)\n",
        "\n",
        "# Branch 2: Conv3D\n",
        "branch2 = Conv3D(filters=16, kernel_size=(5, 5, 5), padding='valid', activation=relu)(input_layer_3d)\n",
        "branch2 = BatchNormalization()(branch2)\n",
        "branch2 = Dropout(0.1)(branch2)\n",
        "branch2 = Conv3D(filters=8, kernel_size=(3, 3, 3), padding='valid', activation=relu)(branch2)\n",
        "branch2 = BatchNormalization()(branch2)\n",
        "\n",
        "\n",
        "\n",
        "# Branch 3: Conv3 (Only to the 15th channel)\n",
        "branch3_input = tf.gather(input_layer_2d, [13,14], axis=3)  # Extract the 15th channel\n",
        "branch3 = DepthwiseConv2D(kernel_size=(1, 1), depth_multiplier=1, activation=relu)(branch3_input)\n",
        "branch3 = Conv2D(filters=10, kernel_size=(8,8), activation=relu)(branch3)\n",
        "branch3 = Conv2D(filters=2, kernel_size=(1, 1), activation=relu)(branch3)\n",
        "branch3 = BatchNormalization()(branch3)\n",
        "branch3 = Dropout(0.1)(branch3)\n",
        "\n",
        "\n",
        "branch1 = Flatten()(branch1)\n",
        "branch2 = Flatten()(branch2)  # Flatten branch2\n",
        "branch4 = Flatten()(branch4)\n",
        "branch3 = Flatten()(branch3)  # Flatten branch3\n",
        "\n",
        "concat = Concatenate()([branch1,branch4, branch2, branch3])\n",
        "\n",
        "# Dense layers\n",
        "dense1 = Dense(2000)(concat)\n",
        "dense1 = BatchNormalization()(dense1)\n",
        "dense1 = Activation('relu')(dense1)\n",
        "dense1 = Dropout(0.25)(dense1)\n",
        "\n",
        "dense2 = Dense(1000)(dense1)\n",
        "dense2 = BatchNormalization()(dense2)\n",
        "dense2 = Activation('relu')(dense2)\n",
        "dense2 = Dropout(0.25)(dense2)\n",
        "\n",
        "dense3 = Dense(500)(dense2)\n",
        "dense3 = BatchNormalization()(dense3)\n",
        "dense3 = Activation('relu')(dense3)\n",
        "dense3 = Dropout(0.25)(dense3)\n",
        "\n",
        "dense4 = Dense(100)(dense3)\n",
        "dense4 = BatchNormalization()(dense4)\n",
        "dense4 = Activation('relu')(dense4)\n",
        "dense4 = Dropout(0.25)(dense4)\n",
        "\n",
        "output_layer = Dense(1)(dense4)\n",
        "\n",
        "# Create the model\n",
        "model = Model(inputs=input_layer_2d, outputs=output_layer)\n",
        "model.compile(optimizer='adam', loss='mean_squared_error', metrics=['mae'])\n",
        "\n",
        "# Train the model\n",
        "model.fit(X_train, y_train, epochs=300, batch_size=300, validation_split=0.1)\n",
        "\n",
        "# Evaluate the model\n",
        "loss, mae= model.evaluate(X_test, y_test)\n",
        "print(\"Test Loss:\", loss)\n",
        "print(\"Mean Absolute Error:\", mae)"
      ],
      "metadata": {
        "id": "tQeo2FuNIIkp",
        "colab": {
          "base_uri": "https://localhost:8080/"
        },
        "executionInfo": {
          "status": "error",
          "timestamp": 1696713433510,
          "user_tz": -330,
          "elapsed": 401338,
          "user": {
            "displayName": "",
            "userId": ""
          }
        },
        "outputId": "48680142-61da-425c-95c9-1c3ee6e8c7e1"
      },
      "execution_count": 8,
      "outputs": [
        {
          "output_type": "stream",
          "name": "stdout",
          "text": [
            "Epoch 1/300\n",
            "5691/5691 [==============================] - 103s 15ms/step - loss: 8634.1992 - mae: 38.3962 - val_loss: 7675.1167 - val_mae: 36.4812\n",
            "Epoch 2/300\n",
            "5691/5691 [==============================] - 82s 14ms/step - loss: 7725.8267 - mae: 36.5215 - val_loss: 7299.7417 - val_mae: 34.5185\n",
            "Epoch 3/300\n",
            "5691/5691 [==============================] - 82s 14ms/step - loss: 7203.7339 - mae: 35.4945 - val_loss: 7205.9307 - val_mae: 35.2182\n",
            "Epoch 4/300\n",
            "5691/5691 [==============================] - 82s 14ms/step - loss: 6706.2192 - mae: 34.5618 - val_loss: 6481.9204 - val_mae: 32.3139\n",
            "Epoch 5/300\n",
            "5691/5691 [==============================] - 82s 14ms/step - loss: 6245.3545 - mae: 33.7147 - val_loss: 6153.5830 - val_mae: 31.5922\n",
            "Epoch 6/300\n",
            "5691/5691 [==============================] - 82s 14ms/step - loss: 5821.9448 - mae: 32.9049 - val_loss: 5868.2095 - val_mae: 30.7895\n",
            "Epoch 7/300\n",
            "5691/5691 [==============================] - 82s 14ms/step - loss: 5449.2529 - mae: 32.1767 - val_loss: 6124.3408 - val_mae: 32.5323\n",
            "Epoch 8/300\n",
            "5691/5691 [==============================] - 82s 14ms/step - loss: 5157.7480 - mae: 31.6038 - val_loss: 5556.1162 - val_mae: 30.1553\n",
            "Epoch 9/300\n",
            "5691/5691 [==============================] - 82s 14ms/step - loss: 4863.2915 - mae: 31.0300 - val_loss: 5420.8369 - val_mae: 29.9021\n",
            "Epoch 10/300\n",
            "5691/5691 [==============================] - 82s 14ms/step - loss: 4628.2876 - mae: 30.5523 - val_loss: 5285.7031 - val_mae: 29.0557\n",
            "Epoch 11/300\n",
            "5691/5691 [==============================] - 82s 14ms/step - loss: 4431.7197 - mae: 30.1479 - val_loss: 5335.2139 - val_mae: 29.4235\n",
            "Epoch 12/300\n",
            "5691/5691 [==============================] - 82s 14ms/step - loss: 4236.6816 - mae: 29.7475 - val_loss: 5169.8882 - val_mae: 29.0747\n",
            "Epoch 13/300\n",
            "5691/5691 [==============================] - 82s 14ms/step - loss: 4082.8293 - mae: 29.4102 - val_loss: 5171.1016 - val_mae: 28.8500\n",
            "Epoch 14/300\n",
            "5691/5691 [==============================] - 82s 14ms/step - loss: 3923.1606 - mae: 29.0582 - val_loss: 5385.6909 - val_mae: 30.4928\n",
            "Epoch 15/300\n",
            "5691/5691 [==============================] - 82s 14ms/step - loss: 3798.0889 - mae: 28.7886 - val_loss: 5050.4771 - val_mae: 28.4466\n",
            "Epoch 16/300\n",
            "5691/5691 [==============================] - 83s 15ms/step - loss: 3674.9016 - mae: 28.4940 - val_loss: 4942.9502 - val_mae: 28.0098\n",
            "Epoch 17/300\n",
            "5691/5691 [==============================] - 83s 15ms/step - loss: 3552.5862 - mae: 28.2349 - val_loss: 5102.3081 - val_mae: 28.9921\n",
            "Epoch 18/300\n",
            "5691/5691 [==============================] - 83s 15ms/step - loss: 3464.2920 - mae: 28.0308 - val_loss: 5032.2593 - val_mae: 28.6116\n",
            "Epoch 19/300\n",
            "5691/5691 [==============================] - 82s 14ms/step - loss: 3360.2642 - mae: 27.7597 - val_loss: 4896.8984 - val_mae: 27.6283\n",
            "Epoch 20/300\n",
            "5691/5691 [==============================] - 82s 14ms/step - loss: 3302.4326 - mae: 27.6118 - val_loss: 4870.1289 - val_mae: 27.4228\n",
            "Epoch 21/300\n",
            "5691/5691 [==============================] - 82s 14ms/step - loss: 3201.3555 - mae: 27.3633 - val_loss: 4984.1045 - val_mae: 28.4585\n",
            "Epoch 22/300\n",
            "5691/5691 [==============================] - 82s 14ms/step - loss: 3143.8298 - mae: 27.2028 - val_loss: 4815.5591 - val_mae: 27.6393\n",
            "Epoch 23/300\n",
            "5691/5691 [==============================] - 82s 14ms/step - loss: 3080.4365 - mae: 27.0537 - val_loss: 4853.0425 - val_mae: 27.5961\n",
            "Epoch 24/300\n",
            "5691/5691 [==============================] - 82s 14ms/step - loss: 3012.9312 - mae: 26.8600 - val_loss: 4826.3975 - val_mae: 27.1395\n",
            "Epoch 25/300\n",
            "5691/5691 [==============================] - 82s 14ms/step - loss: 2954.7773 - mae: 26.7161 - val_loss: 4814.5723 - val_mae: 27.1643\n",
            "Epoch 26/300\n",
            "5691/5691 [==============================] - 82s 14ms/step - loss: 2887.5591 - mae: 26.5469 - val_loss: 4773.5576 - val_mae: 27.0644\n",
            "Epoch 27/300\n",
            "5691/5691 [==============================] - 82s 14ms/step - loss: 2858.8931 - mae: 26.4403 - val_loss: 4730.5981 - val_mae: 26.7354\n",
            "Epoch 28/300\n",
            "5691/5691 [==============================] - 82s 14ms/step - loss: 2803.9419 - mae: 26.2991 - val_loss: 4884.1699 - val_mae: 27.1110\n",
            "Epoch 29/300\n",
            "5691/5691 [==============================] - 82s 14ms/step - loss: 2745.1038 - mae: 26.1474 - val_loss: 4802.3354 - val_mae: 26.8659\n",
            "Epoch 30/300\n",
            "5691/5691 [==============================] - 82s 14ms/step - loss: 2702.0154 - mae: 26.0248 - val_loss: 4724.2461 - val_mae: 26.6747\n",
            "Epoch 31/300\n",
            "5691/5691 [==============================] - 82s 14ms/step - loss: 2673.4629 - mae: 25.9342 - val_loss: 4739.0923 - val_mae: 26.9617\n",
            "Epoch 32/300\n",
            "5691/5691 [==============================] - 82s 14ms/step - loss: 2635.5901 - mae: 25.8086 - val_loss: 4669.9570 - val_mae: 26.5917\n",
            "Epoch 33/300\n",
            "5691/5691 [==============================] - 82s 14ms/step - loss: 2591.9832 - mae: 25.6917 - val_loss: 4629.6382 - val_mae: 26.2497\n",
            "Epoch 34/300\n",
            "5691/5691 [==============================] - 82s 14ms/step - loss: 2545.5742 - mae: 25.5696 - val_loss: 4668.7114 - val_mae: 26.4589\n",
            "Epoch 35/300\n",
            "5691/5691 [==============================] - 82s 14ms/step - loss: 2520.2249 - mae: 25.4823 - val_loss: 4659.8970 - val_mae: 26.1537\n",
            "Epoch 36/300\n",
            "5691/5691 [==============================] - 82s 14ms/step - loss: 2492.5642 - mae: 25.3828 - val_loss: 4617.4497 - val_mae: 26.2888\n",
            "Epoch 37/300\n",
            "5691/5691 [==============================] - 82s 14ms/step - loss: 2463.4216 - mae: 25.2895 - val_loss: 4650.1802 - val_mae: 26.0579\n",
            "Epoch 38/300\n",
            "5691/5691 [==============================] - 82s 14ms/step - loss: 2415.8936 - mae: 25.1498 - val_loss: 4617.0962 - val_mae: 25.9911\n",
            "Epoch 39/300\n",
            "5691/5691 [==============================] - 82s 14ms/step - loss: 2399.8674 - mae: 25.1146 - val_loss: 4826.0308 - val_mae: 26.8157\n",
            "Epoch 40/300\n",
            "5691/5691 [==============================] - 82s 14ms/step - loss: 2374.5767 - mae: 25.0033 - val_loss: 4538.2700 - val_mae: 25.9375\n",
            "Epoch 41/300\n",
            "  89/5691 [..............................] - ETA: 1:17 - loss: 2187.6550 - mae: 24.3849Buffered data was truncated after reaching the output size limit."
          ]
        }
      ]
    },
    {
      "cell_type": "code",
      "source": [
        "model.save(\"model.h5\")\n"
      ],
      "metadata": {
        "id": "PKerQMNzOLOx",
        "executionInfo": {
          "status": "aborted",
          "timestamp": 1696713433511,
          "user_tz": -330,
          "elapsed": 1,
          "user": {
            "displayName": "",
            "userId": ""
          }
        }
      },
      "execution_count": null,
      "outputs": []
    }
  ],
  "metadata": {
    "accelerator": "GPU",
    "colab": {
      "provenance": [],
      "gpuType": "T4"
    },
    "kernelspec": {
      "display_name": "Python 3",
      "name": "python3"
    },
    "language_info": {
      "codemirror_mode": {
        "name": "ipython",
        "version": 3
      },
      "file_extension": ".py",
      "mimetype": "text/x-python",
      "name": "python",
      "nbconvert_exporter": "python",
      "pygments_lexer": "ipython3",
      "version": "3.9.17"
    }
  },
  "nbformat": 4,
  "nbformat_minor": 0
}