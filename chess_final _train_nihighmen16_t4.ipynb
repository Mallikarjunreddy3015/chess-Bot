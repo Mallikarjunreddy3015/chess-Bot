{
  "cells": [
    {
      "cell_type": "code",
      "execution_count": 1,
      "metadata": {
        "colab": {
          "base_uri": "https://localhost:8080/"
        },
        "id": "uXu6D-nv_Z3N",
        "outputId": "aca56600-e217-46e9-8d0e-880b74fd3ddd",
        "executionInfo": {
          "status": "ok",
          "timestamp": 1696522746603,
          "user_tz": -330,
          "elapsed": 31281,
          "user": {
            "displayName": "",
            "userId": ""
          }
        }
      },
      "outputs": [
        {
          "output_type": "stream",
          "name": "stdout",
          "text": [
            "Requirement already satisfied: python-chess in /usr/local/lib/python3.10/dist-packages (1.999)\n",
            "Requirement already satisfied: chess<2,>=1 in /usr/local/lib/python3.10/dist-packages (from python-chess) (1.10.0)\n",
            "\u001b[33mWARNING: Running pip as the 'root' user can result in broken permissions and conflicting behaviour with the system package manager. It is recommended to use a virtual environment instead: https://pip.pypa.io/warnings/venv\u001b[0m\u001b[33m\n",
            "\u001b[0mRequirement already satisfied: psutil in /usr/local/lib/python3.10/dist-packages (5.9.5)\n",
            "\u001b[33mWARNING: Running pip as the 'root' user can result in broken permissions and conflicting behaviour with the system package manager. It is recommended to use a virtual environment instead: https://pip.pypa.io/warnings/venv\u001b[0m\u001b[33m\n",
            "\u001b[0mRequirement already satisfied: google-cloud-storage in /usr/local/lib/python3.10/dist-packages (2.8.0)\n",
            "Requirement already satisfied: google-auth<3.0dev,>=1.25.0 in /usr/local/lib/python3.10/dist-packages (from google-cloud-storage) (2.17.3)\n",
            "Requirement already satisfied: google-api-core!=2.0.*,!=2.1.*,!=2.2.*,!=2.3.0,<3.0.0dev,>=1.31.5 in /usr/local/lib/python3.10/dist-packages (from google-cloud-storage) (2.11.1)\n",
            "Requirement already satisfied: google-cloud-core<3.0dev,>=2.3.0 in /usr/local/lib/python3.10/dist-packages (from google-cloud-storage) (2.3.3)\n",
            "Requirement already satisfied: google-resumable-media>=2.3.2 in /usr/local/lib/python3.10/dist-packages (from google-cloud-storage) (2.6.0)\n",
            "Requirement already satisfied: requests<3.0.0dev,>=2.18.0 in /usr/local/lib/python3.10/dist-packages (from google-cloud-storage) (2.31.0)\n",
            "Requirement already satisfied: googleapis-common-protos<2.0.dev0,>=1.56.2 in /usr/local/lib/python3.10/dist-packages (from google-api-core!=2.0.*,!=2.1.*,!=2.2.*,!=2.3.0,<3.0.0dev,>=1.31.5->google-cloud-storage) (1.60.0)\n",
            "Requirement already satisfied: protobuf!=3.20.0,!=3.20.1,!=4.21.0,!=4.21.1,!=4.21.2,!=4.21.3,!=4.21.4,!=4.21.5,<5.0.0.dev0,>=3.19.5 in /usr/local/lib/python3.10/dist-packages (from google-api-core!=2.0.*,!=2.1.*,!=2.2.*,!=2.3.0,<3.0.0dev,>=1.31.5->google-cloud-storage) (3.20.3)\n",
            "Requirement already satisfied: cachetools<6.0,>=2.0.0 in /usr/local/lib/python3.10/dist-packages (from google-auth<3.0dev,>=1.25.0->google-cloud-storage) (5.3.1)\n",
            "Requirement already satisfied: pyasn1-modules>=0.2.1 in /usr/local/lib/python3.10/dist-packages (from google-auth<3.0dev,>=1.25.0->google-cloud-storage) (0.3.0)\n",
            "Requirement already satisfied: six>=1.9.0 in /usr/local/lib/python3.10/dist-packages (from google-auth<3.0dev,>=1.25.0->google-cloud-storage) (1.16.0)\n",
            "Requirement already satisfied: rsa<5,>=3.1.4 in /usr/local/lib/python3.10/dist-packages (from google-auth<3.0dev,>=1.25.0->google-cloud-storage) (4.9)\n",
            "Requirement already satisfied: google-crc32c<2.0dev,>=1.0 in /usr/local/lib/python3.10/dist-packages (from google-resumable-media>=2.3.2->google-cloud-storage) (1.5.0)\n",
            "Requirement already satisfied: charset-normalizer<4,>=2 in /usr/local/lib/python3.10/dist-packages (from requests<3.0.0dev,>=2.18.0->google-cloud-storage) (3.2.0)\n",
            "Requirement already satisfied: idna<4,>=2.5 in /usr/local/lib/python3.10/dist-packages (from requests<3.0.0dev,>=2.18.0->google-cloud-storage) (3.4)\n",
            "Requirement already satisfied: urllib3<3,>=1.21.1 in /usr/local/lib/python3.10/dist-packages (from requests<3.0.0dev,>=2.18.0->google-cloud-storage) (2.0.4)\n",
            "Requirement already satisfied: certifi>=2017.4.17 in /usr/local/lib/python3.10/dist-packages (from requests<3.0.0dev,>=2.18.0->google-cloud-storage) (2023.7.22)\n",
            "Requirement already satisfied: pyasn1<0.6.0,>=0.4.6 in /usr/local/lib/python3.10/dist-packages (from pyasn1-modules>=0.2.1->google-auth<3.0dev,>=1.25.0->google-cloud-storage) (0.5.0)\n",
            "\u001b[33mWARNING: Running pip as the 'root' user can result in broken permissions and conflicting behaviour with the system package manager. It is recommended to use a virtual environment instead: https://pip.pypa.io/warnings/venv\u001b[0m\u001b[33m\n",
            "\u001b[0m"
          ]
        }
      ],
      "source": [
        "!pip install python-chess\n",
        "!pip install psutil\n",
        "!pip install google-cloud-storage\n",
        "\n",
        "import numpy as np\n",
        "import pandas as pd\n",
        "import glob\n",
        "import os\n",
        "import chess\n"
      ]
    },
    {
      "cell_type": "code",
      "source": [
        "import psutil\n",
        "\n",
        "# Get system memory information\n",
        "memory = psutil.virtual_memory()\n",
        "print(f\"Total RAM: {memory.total / (1024 ** 3):.2f} GB\")\n",
        "print(f\"Used RAM: {memory.used / (1024 ** 3):.2f} GB\")\n",
        "print(f\"Free RAM: {memory.free / (1024 ** 3):.2f} GB\")\n"
      ],
      "metadata": {
        "id": "_Kw8L5mmaSlc",
        "outputId": "c917ac73-30be-455e-d930-1840ddbc6ab2",
        "colab": {
          "base_uri": "https://localhost:8080/"
        },
        "executionInfo": {
          "status": "ok",
          "timestamp": 1696521483274,
          "user_tz": -330,
          "elapsed": 15,
          "user": {
            "displayName": "",
            "userId": ""
          }
        }
      },
      "execution_count": 2,
      "outputs": [
        {
          "output_type": "stream",
          "name": "stdout",
          "text": [
            "Total RAM: 51.00 GB\n",
            "Used RAM: 1.20 GB\n",
            "Free RAM: 47.86 GB\n"
          ]
        }
      ]
    },
    {
      "cell_type": "code",
      "source": [
        "import os\n",
        "\n",
        "os.environ[\"GOOGLE_APPLICATION_CREDENTIALS\"] = \"/content/gleaming-modem-400906-3780658b0f47.json\"\n",
        "from google.cloud import storage\n",
        "\n",
        "def download_from_bucket(blob_name, path_to_save_to, bucket_name):\n",
        "    client = storage.Client()\n",
        "    bucket = client.get_bucket(bucket_name)\n",
        "    blob = bucket.blob(blob_name)\n",
        "    blob.download_to_filename(path_to_save_to)\n",
        "    print(f\"File {blob_name} downloaded to {path_to_save_to}.\")\n",
        "\n",
        "# Use the function to download your file:\n",
        "download_from_bucket(\"concatenated_array2.npy\", \"/content/concatenated_array2.npy\", \"chess_data_all\")\n",
        "download_from_bucket(\"concatenated_array1.npy\", \"/content/concatenated_array1.npy\", \"chess_data_all\")\n"
      ],
      "metadata": {
        "colab": {
          "base_uri": "https://localhost:8080/"
        },
        "id": "_SV1_hnRi4En",
        "executionInfo": {
          "status": "ok",
          "timestamp": 1696522053967,
          "user_tz": -330,
          "elapsed": 570703,
          "user": {
            "displayName": "",
            "userId": ""
          }
        },
        "outputId": "f384bf8e-c058-48ec-9c1f-f59ac36e038f"
      },
      "execution_count": 3,
      "outputs": [
        {
          "output_type": "stream",
          "name": "stdout",
          "text": [
            "File concatenated_array2.npy downloaded to /content/concatenated_array2.npy.\n",
            "File concatenated_array1.npy downloaded to /content/concatenated_array1.npy.\n"
          ]
        }
      ]
    },
    {
      "cell_type": "code",
      "execution_count": 2,
      "metadata": {
        "id": "bnfn9WPEni1p",
        "executionInfo": {
          "status": "ok",
          "timestamp": 1696522876195,
          "user_tz": -330,
          "elapsed": 129629,
          "user": {
            "displayName": "",
            "userId": ""
          }
        }
      },
      "outputs": [],
      "source": [
        "\n",
        "\n",
        "bitboard_dataset=np.load(\"/content/concatenated_array1.npy\")\n",
        "labels=np.load(\"/content/concatenated_array2.npy\")"
      ]
    },
    {
      "cell_type": "code",
      "source": [
        "!nvidia-smi\n"
      ],
      "metadata": {
        "colab": {
          "base_uri": "https://localhost:8080/"
        },
        "id": "rVRJlrf_j0Hk",
        "executionInfo": {
          "status": "ok",
          "timestamp": 1696522061015,
          "user_tz": -330,
          "elapsed": 6,
          "user": {
            "displayName": "",
            "userId": ""
          }
        },
        "outputId": "7eaaadfd-c6d3-4e67-91f2-93d4cf953684"
      },
      "execution_count": 5,
      "outputs": [
        {
          "output_type": "stream",
          "name": "stdout",
          "text": [
            "Thu Oct  5 16:07:40 2023       \n",
            "+---------------------------------------------------------------------------------------+\n",
            "| NVIDIA-SMI 535.104.05             Driver Version: 535.104.05   CUDA Version: 12.2     |\n",
            "|-----------------------------------------+----------------------+----------------------+\n",
            "| GPU  Name                 Persistence-M | Bus-Id        Disp.A | Volatile Uncorr. ECC |\n",
            "| Fan  Temp   Perf          Pwr:Usage/Cap |         Memory-Usage | GPU-Util  Compute M. |\n",
            "|                                         |                      |               MIG M. |\n",
            "|=========================================+======================+======================|\n",
            "|   0  Tesla V100-SXM2-16GB           Off | 00000000:00:04.0 Off |                    0 |\n",
            "| N/A   37C    P0              25W / 300W |      0MiB / 16384MiB |      0%      Default |\n",
            "|                                         |                      |                  N/A |\n",
            "+-----------------------------------------+----------------------+----------------------+\n",
            "                                                                                         \n",
            "+---------------------------------------------------------------------------------------+\n",
            "| Processes:                                                                            |\n",
            "|  GPU   GI   CI        PID   Type   Process name                            GPU Memory |\n",
            "|        ID   ID                                                             Usage      |\n",
            "|=======================================================================================|\n",
            "|  No running processes found                                                           |\n",
            "+---------------------------------------------------------------------------------------+\n"
          ]
        }
      ]
    },
    {
      "cell_type": "code",
      "execution_count": 6,
      "metadata": {
        "id": "QFSsXYpsWrou",
        "colab": {
          "base_uri": "https://localhost:8080/"
        },
        "executionInfo": {
          "status": "ok",
          "timestamp": 1696522061440,
          "user_tz": -330,
          "elapsed": 5,
          "user": {
            "displayName": "",
            "userId": ""
          }
        },
        "outputId": "2d993cf3-f867-4daa-c5c7-0eb439c04d35"
      },
      "outputs": [
        {
          "output_type": "stream",
          "name": "stdout",
          "text": [
            "[[[  0.      0.      0.    ...   0.      0.      0.   ]\n",
            "  [ 11.     11.      0.    ...   0.     11.     11.   ]\n",
            "  [  1.      1.      0.    ...   0.      1.      1.   ]\n",
            "  ...\n",
            "  [  0.      0.      0.    ...   1.      0.      0.   ]\n",
            "  [  0.      0.      0.    ...   0.      0.      0.   ]\n",
            "  [  0.      0.      0.    ...   0.      0.      0.   ]]\n",
            "\n",
            " [[  0.      0.      0.    ...   0.      0.      0.   ]\n",
            "  [  0.      0.      0.    ...   0.      0.      0.   ]\n",
            "  [  0.      0.      0.    ...   0.      0.      0.   ]\n",
            "  ...\n",
            "  [ -1.     -0.125   0.    ... -11.     -1.     -1.   ]\n",
            "  [-11.    -11.      0.    ...   0.    -11.    -11.   ]\n",
            "  [  0.      0.      0.    ...   0.      0.      0.   ]]\n",
            "\n",
            " [[  0.      0.      4.    ...   0.      4.      0.   ]\n",
            "  [  0.      0.      0.    ...   0.      0.      0.5  ]\n",
            "  [  0.      0.      4.    ...  44.      4.      0.   ]\n",
            "  ...\n",
            "  [  0.      0.      0.    ...   0.      0.      0.   ]\n",
            "  [  0.      0.      0.    ...   0.      0.      0.   ]\n",
            "  [  0.      0.      0.    ...   0.      0.      0.   ]]\n",
            "\n",
            " ...\n",
            "\n",
            " [[ 55.      0.      0.    ...   0.      0.     55.   ]\n",
            "  [ 11.     11.      0.    ...   0.     11.     11.   ]\n",
            "  [  0.      0.      0.    ...  44.      0.      0.   ]\n",
            "  ...\n",
            "  [  0.      0.      0.    ...   0.      0.      0.   ]\n",
            "  [  0.      0.      0.    ...   0.      0.      0.   ]\n",
            "  [  0.      0.      0.    ...   0.      0.      0.   ]]\n",
            "\n",
            " [[  0.      0.      0.    ...   0.      0.      0.   ]\n",
            "  [  0.      0.      0.    ...   0.      0.      0.   ]\n",
            "  [  0.      0.      0.    ...   0.      0.      0.   ]\n",
            "  ...\n",
            "  [  0.    -99.    -44.    ... -11.      0.      0.   ]\n",
            "  [-11.    -11.      0.    ...   0.    -11.    -11.   ]\n",
            "  [-55.      0.    -33.    ...   0.      0.    -55.   ]]\n",
            "\n",
            " [[  0.      0.      0.    ...   0.      0.      0.   ]\n",
            "  [  0.      0.      0.    ...   0.      0.      0.   ]\n",
            "  [  0.      0.      0.    ...   0.      0.      0.   ]\n",
            "  ...\n",
            "  [  0.     -1.     -1.    ...  -1.      0.      0.   ]\n",
            "  [ -1.      0.      0.    ...   0.     -1.     -1.   ]\n",
            "  [ -1.      0.      0.    ...   0.      0.     -1.   ]]]\n"
          ]
        }
      ],
      "source": [
        "print(bitboard_dataset[20])"
      ]
    },
    {
      "cell_type": "code",
      "source": [
        "from tensorflow.keras import layers\n",
        "from tensorflow.keras.models import Model\n",
        "from sklearn.model_selection import train_test_split\n",
        "from sklearn.utils import shuffle\n",
        "from tensorflow import keras\n",
        "from tensorflow.keras.layers import Input, Conv2D, Conv3D, Flatten, Dense, Concatenate\n",
        "from tensorflow.keras.activations import relu\n",
        "import tensorflow as tf\n",
        "from tensorflow.keras.layers import DepthwiseConv2D\n",
        "\n",
        "\n",
        "# ... Assuming bitboard_dataset and labels are defined ...\n",
        "\n",
        "bitboard_dataset, labels = shuffle(bitboard_dataset, labels)\n",
        "X_train, X_test, y_train, y_test = train_test_split(bitboard_dataset, labels, test_size=0.2, random_state=42)\n",
        "\n",
        "\n",
        "# Input layer\n",
        "input_layer_2d = layers.Input(shape=(16,8, 8))  # for 2D convolutions\n",
        "input_layer_3d = layers.Reshape((16, 8, 8, 1))(input_layer_2d)  # for 3D convolutions\n",
        "\n",
        "# Branch 1: Depthwise Convolution\n",
        "branch1 = DepthwiseConv2D(kernel_size=(1, 1), depth_multiplier=1, activation=relu)(input_layer_2d)\n",
        "branch1 = Conv2D(filters=15, kernel_size=(8, 8), activation=relu)(branch1)\n",
        "branch1 = Flatten()(branch1)  # Flatten branch1\n",
        "# Branch 2: Conv3D\n",
        "branch2 = Conv3D(filters=16, kernel_size=(5, 5, 5), padding='valid', activation=relu)(input_layer_3d)\n",
        "branch2 = Conv3D(filters=8, kernel_size=(3, 3, 3), padding='valid', activation=relu)(branch2)\n",
        "branch2 = Flatten()(branch2)  # Flatten branch2\n",
        "\n",
        "# Branch 3: Conv3 (Only to the 15th channel)\n",
        "branch3_input = tf.gather(input_layer_2d, [13,14], axis=3)  # Extract the 15th channel\n",
        "branch3 = DepthwiseConv2D(kernel_size=(1, 1), depth_multiplier=1, activation=relu)(branch3_input)\n",
        "branch3 = Conv2D(filters=10, kernel_size=(8,8), activation=relu)(branch3)\n",
        "branch3 = Conv2D(filters=2, kernel_size=(1, 1), activation=relu)(branch3)\n",
        "branch3 = Flatten()(branch3)  # Flatten branch3\n",
        "\n",
        "concat = Concatenate()([branch1, branch2, branch3])\n",
        "\n",
        "# Dense layers\n",
        "dense1 = Dense(64, activation='relu')(concat)\n",
        "dense2 = Dense(32, activation='relu')(dense1)\n",
        "dense3 = Dense(16, activation='relu')(dense2)\n",
        "output_layer = Dense(1)(dense3)  # No activation function for regression\n",
        "\n",
        "# Create the model\n",
        "model = Model(inputs=input_layer_2d, outputs=output_layer)\n",
        "model.compile(optimizer='adam', loss='mean_squared_error', metrics=['mae', 'mape'])\n",
        "\n",
        "# Train the model\n",
        "model.fit(X_train, y_train, epochs=200, batch_size=1000, validation_split=0.1)\n",
        "\n",
        "# Evaluate the model\n",
        "loss, mae, mape = model.evaluate(X_test, y_test)\n",
        "print(\"Test Loss:\", loss)\n",
        "print(\"Mean Absolute Error:\", mae)\n",
        "print(\"Mean Absolute Percentage Error:\", mape)"
      ],
      "metadata": {
        "id": "tQeo2FuNIIkp"
      },
      "execution_count": null,
      "outputs": []
    }
  ],
  "metadata": {
    "accelerator": "GPU",
    "colab": {
      "provenance": [],
      "gpuType": "T4"
    },
    "kernelspec": {
      "display_name": "Python 3",
      "name": "python3"
    },
    "language_info": {
      "codemirror_mode": {
        "name": "ipython",
        "version": 3
      },
      "file_extension": ".py",
      "mimetype": "text/x-python",
      "name": "python",
      "nbconvert_exporter": "python",
      "pygments_lexer": "ipython3",
      "version": "3.9.17"
    }
  },
  "nbformat": 4,
  "nbformat_minor": 0
}