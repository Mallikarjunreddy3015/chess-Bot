{
 "cells": [
  {
   "cell_type": "code",
   "execution_count": null,
   "id": "4f2b66a4",
   "metadata": {
    "execution": {
     "iopub.execute_input": "2023-10-05T12:16:52.120658Z",
     "iopub.status.busy": "2023-10-05T12:16:52.119863Z",
     "iopub.status.idle": "2023-10-05T12:16:52.124773Z",
     "shell.execute_reply": "2023-10-05T12:16:52.123991Z"
    },
    "id": "FeCoY3TqrFPi",
    "outputId": "d3e31b18-391c-4db7-9606-3630092dbf88",
    "papermill": {
     "duration": 0.012519,
     "end_time": "2023-10-05T12:16:52.126818",
     "exception": false,
     "start_time": "2023-10-05T12:16:52.114299",
     "status": "completed"
    },
    "tags": []
   },
   "outputs": [],
   "source": [
    "# from google.colab import drive\n",
    "# drive.mount('/content/drive')"
   ]
  },
  {
   "cell_type": "code",
   "execution_count": null,
   "id": "72c09661",
   "metadata": {
    "execution": {
     "iopub.execute_input": "2023-10-05T12:16:52.137161Z",
     "iopub.status.busy": "2023-10-05T12:16:52.136517Z",
     "iopub.status.idle": "2023-10-05T12:17:15.109525Z",
     "shell.execute_reply": "2023-10-05T12:17:15.108335Z"
    },
    "id": "uXu6D-nv_Z3N",
    "outputId": "7c1ec833-b1e5-48ca-a779-9170c4109d71",
    "papermill": {
     "duration": 22.980063,
     "end_time": "2023-10-05T12:17:15.112133",
     "exception": false,
     "start_time": "2023-10-05T12:16:52.132070",
     "status": "completed"
    },
    "tags": []
   },
   "outputs": [],
   "source": [
    "!pip install python-chess\n",
    "import tensorflow as tf\n",
    "from tensorflow.keras import layers\n",
    "import numpy as np\n",
    "import pandas as pd\n",
    "import glob\n",
    "import os\n",
    "import chess\n"
   ]
  },
  {
   "cell_type": "code",
   "execution_count": null,
   "id": "6ec9d317",
   "metadata": {
    "execution": {
     "iopub.execute_input": "2023-10-05T12:17:15.122216Z",
     "iopub.status.busy": "2023-10-05T12:17:15.121565Z",
     "iopub.status.idle": "2023-10-05T12:17:39.450486Z",
     "shell.execute_reply": "2023-10-05T12:17:39.449178Z"
    },
    "id": "bPvv15KtoS7k",
    "papermill": {
     "duration": 24.337116,
     "end_time": "2023-10-05T12:17:39.453116",
     "exception": false,
     "start_time": "2023-10-05T12:17:15.116000",
     "status": "completed"
    },
    "tags": []
   },
   "outputs": [],
   "source": [
    "dataframe = pd.read_csv('/kaggle/input/chessfendataset/chessData.csv')"
   ]
  },
  {
   "cell_type": "code",
   "execution_count": null,
   "id": "2e51b27e",
   "metadata": {
    "execution": {
     "iopub.execute_input": "2023-10-05T12:17:39.464036Z",
     "iopub.status.busy": "2023-10-05T12:17:39.462797Z",
     "iopub.status.idle": "2023-10-05T12:17:39.468878Z",
     "shell.execute_reply": "2023-10-05T12:17:39.467525Z"
    },
    "id": "1yQdZKrXsNU3",
    "papermill": {
     "duration": 0.013642,
     "end_time": "2023-10-05T12:17:39.471306",
     "exception": false,
     "start_time": "2023-10-05T12:17:39.457664",
     "status": "completed"
    },
    "tags": []
   },
   "outputs": [],
   "source": [
    "dataframe.head()\n",
    "d=dataframe"
   ]
  },
  {
   "cell_type": "code",
   "execution_count": null,
   "id": "2b7843fc",
   "metadata": {
    "execution": {
     "iopub.execute_input": "2023-10-05T12:17:39.481039Z",
     "iopub.status.busy": "2023-10-05T12:17:39.480385Z",
     "iopub.status.idle": "2023-10-05T12:17:39.484532Z",
     "shell.execute_reply": "2023-10-05T12:17:39.483625Z"
    },
    "id": "XQdVPluX9Ngk",
    "papermill": {
     "duration": 0.011405,
     "end_time": "2023-10-05T12:17:39.486654",
     "exception": false,
     "start_time": "2023-10-05T12:17:39.475249",
     "status": "completed"
    },
    "tags": []
   },
   "outputs": [],
   "source": [
    "d.shape\n",
    "d1=d.iloc[1000000:2000000]"
   ]
  },
  {
   "cell_type": "code",
   "execution_count": null,
   "id": "cde43dfa",
   "metadata": {
    "execution": {
     "iopub.execute_input": "2023-10-05T12:17:39.496189Z",
     "iopub.status.busy": "2023-10-05T12:17:39.495812Z",
     "iopub.status.idle": "2023-10-05T12:17:41.139091Z",
     "shell.execute_reply": "2023-10-05T12:17:41.137923Z"
    },
    "id": "Lwx6-SCu67aK",
    "papermill": {
     "duration": 1.651157,
     "end_time": "2023-10-05T12:17:41.141637",
     "exception": false,
     "start_time": "2023-10-05T12:17:39.490480",
     "status": "completed"
    },
    "tags": []
   },
   "outputs": [],
   "source": [
    "d1 = d1[~d1['Evaluation'].str.contains('\\ufeff|#', na=False)]\n",
    "d1['Evaluation'] = pd.to_numeric(d1['Evaluation'].str.replace('[^\\d.-]', '', regex=True), errors='coerce')\n",
    "# labels=d1['Evaluation']\n",
    "d1['Scaled_Evaluation'] = 1000 * (2 * (d1['Evaluation'] +7000) / (14000) - 1)\n",
    "labels=np.array(d1['Scaled_Evaluation'])"
   ]
  },
  {
   "cell_type": "code",
   "execution_count": null,
   "id": "cfb9533e",
   "metadata": {
    "execution": {
     "iopub.execute_input": "2023-10-05T12:17:41.151500Z",
     "iopub.status.busy": "2023-10-05T12:17:41.150759Z",
     "iopub.status.idle": "2023-10-05T14:28:44.287228Z",
     "shell.execute_reply": "2023-10-05T14:28:44.286055Z"
    },
    "id": "5E2_BSaFcWiJ",
    "papermill": {
     "duration": 7863.143833,
     "end_time": "2023-10-05T14:28:44.289249",
     "exception": false,
     "start_time": "2023-10-05T12:17:41.145416",
     "status": "completed"
    },
    "tags": []
   },
   "outputs": [],
   "source": [
    "import chess\n",
    "import numpy as np\n",
    "i=0\n",
    "def create_bitboard(fen):\n",
    "    global i \n",
    "    i+=1\n",
    "    # Setting up the piece values\n",
    "    piece_values = {\n",
    "        'P': 11, 'p': -11, 'N': 44, 'n': -44, 'B': 33, 'b': -33, 'R': 55,\n",
    "        'r': -55, 'Q': 99, 'q': -99, 'K': 110, 'k': -110\n",
    "    }\n",
    "\n",
    "    # Mapping piece symbols to bitboard layers\n",
    "    piece_to_layer = {\n",
    "        'P': 0, 'p': 1, 'N': 2, 'n': 3, 'B': 4, 'b': 5, 'R': 6, 'r': 7, 'Q': 8,\n",
    "        'q': 9, 'K': 10, 'k': 11\n",
    "    }\n",
    "\n",
    "    # Create an empty bitboard of shape (12, 8, 8) using numpy\n",
    "    en_passant_layer = 12\n",
    "    white_values_layer = 13\n",
    "    black_values_layer = 14\n",
    "    valid_move_positions_layer = 15\n",
    "\n",
    "    bitboard = np.zeros((16, 8, 8))\n",
    "\n",
    "    board = chess.Board(fen)\n",
    "    if board.ep_square is not None:\n",
    "        rank, file = divmod(board.ep_square, 8)\n",
    "        bitboard[en_passant_layer][rank][file] = 1 if board.turn == chess.WHITE else -1\n",
    "    computed_moves = {}\n",
    "\n",
    "    for piece_type, piece_value in piece_values.items():\n",
    "        layer = piece_to_layer[piece_type]\n",
    "\n",
    "        if piece_type not in computed_moves:\n",
    "            valid_moves = set()\n",
    "            empty_board_moves = set()\n",
    "            for square in chess.SQUARES:\n",
    "                piece = board.piece_at(square)\n",
    "                if piece and piece.symbol() == piece_type:\n",
    "                    # Generate moves for both colors irrespective of turn\n",
    "                    board.turn = chess.WHITE\n",
    "                    moves_white = [move for move in board.legal_moves if move.from_square == square]\n",
    "                    board.turn = chess.BLACK\n",
    "                    moves_black = [move for move in board.legal_moves if move.from_square == square]\n",
    "                    valid_moves.update([move.to_square for move in moves_white])\n",
    "                    valid_moves.update([move.to_square for move in moves_black])\n",
    "\n",
    "                    empty_board = chess.Board()\n",
    "                    empty_board.clear()\n",
    "                    empty_board.set_piece_at(square, piece)\n",
    "                    # Generate moves for both colors irrespective of turn on the empty board\n",
    "                    empty_board.turn = chess.WHITE\n",
    "                    empty_moves_white = [move for move in empty_board.generate_legal_moves(from_mask=chess.BB_SQUARES[square])]\n",
    "                    empty_board.turn = chess.BLACK\n",
    "                    empty_moves_black = [move for move in empty_board.generate_legal_moves(from_mask=chess.BB_SQUARES[square])]\n",
    "                    empty_board_moves.update([move.to_square for move in empty_moves_white])\n",
    "                    empty_board_moves.update([move.to_square for move in empty_moves_black])\n",
    "\n",
    "            computed_moves[piece_type] = (valid_moves, empty_board_moves)\n",
    "\n",
    "        valid_moves, empty_board_moves = computed_moves[piece_type]\n",
    "\n",
    "        for square in chess.SQUARES:\n",
    "            rank, file = divmod(square, 8)\n",
    "            piece = board.piece_at(square)\n",
    "            if piece:\n",
    "                if piece.color == chess.WHITE:\n",
    "                    bitboard[white_values_layer][rank][file] = piece_values[piece.symbol()]\n",
    "                else:\n",
    "                    bitboard[black_values_layer][rank][file] = piece_values[piece.symbol()]\n",
    "            if piece and piece.symbol() == piece_type:\n",
    "                bitboard[layer][rank][file] = piece_value\n",
    "            elif square in valid_moves:\n",
    "                bitboard[layer][rank][file] = piece_value / 11\n",
    "            elif square in empty_board_moves:\n",
    "                bitboard[layer][rank][file] = piece_value / 88\n",
    "        board = chess.Board(fen)\n",
    "        for move in board.legal_moves:\n",
    "            rank, file = divmod(move.from_square, 8)\n",
    "            if board.turn == chess.WHITE:\n",
    "              bitboard[valid_move_positions_layer][rank][file] = 1\n",
    "            else:\n",
    "              bitboard[valid_move_positions_layer][rank][file] = -1\n",
    "    if i%100000 :\n",
    "        print(i)\n",
    "    return bitboard\n",
    "\n",
    "bitboard_dataset = [create_bitboard(fen) for fen in np.array(d1['FEN'])]\n",
    "# print(create_bitboard(d1[\"FEN\"][1])[0:15])\n"
   ]
  },
  {
   "cell_type": "code",
   "execution_count": null,
   "id": "92d4ad83",
   "metadata": {
    "execution": {
     "iopub.execute_input": "2023-10-05T14:28:49.191318Z",
     "iopub.status.busy": "2023-10-05T14:28:49.190908Z",
     "iopub.status.idle": "2023-10-05T14:35:16.104296Z",
     "shell.execute_reply": "2023-10-05T14:35:16.103111Z"
    },
    "papermill": {
     "duration": 389.39246,
     "end_time": "2023-10-05T14:35:16.224691",
     "exception": false,
     "start_time": "2023-10-05T14:28:46.832231",
     "status": "completed"
    },
    "tags": []
   },
   "outputs": [],
   "source": [
    "!pip install google-cloud-storage\n",
    "os.environ['GOOGLE_APPLICATION_CREDENTIALS'] = '/kaggle/input/dfgtyj/gleaming-modem-400906-3780658b0f47.json'\n",
    "\n",
    "\n",
    "import numpy as np\n",
    "from google.cloud import storage\n",
    "from io import BytesIO\n",
    "\n",
    "def upload_numpy_to_gcs(bucket_name, numpy_array, destination_blob_name):\n",
    "    \"\"\"Uploads a numpy array to GCS as a byte stream.\"\"\"\n",
    "    storage_client = storage.Client()\n",
    "    bucket = storage_client.bucket(bucket_name)\n",
    "    blob = bucket.blob(destination_blob_name)\n",
    "    \n",
    "    # Convert numpy array to byte stream\n",
    "    byte_stream = BytesIO()\n",
    "    np.save(byte_stream, numpy_array)\n",
    "    \n",
    "    # Reset stream position to beginning\n",
    "    byte_stream.seek(0)\n",
    "    \n",
    "    # Upload byte stream to GCS\n",
    "    blob.upload_from_file(byte_stream, content_type='application/octet-stream')\n",
    "    print(f\"Numpy array uploaded to {destination_blob_name}.\")\n",
    "\n",
    "\n",
    "\n",
    "# Use the function\n",
    "upload_numpy_to_gcs('chess_data_all', bitboard_dataset, 'bitboard_dataset_1-2M.npy')\n",
    "upload_numpy_to_gcs('chess_data_all', labels, 'labels_dataset_1-2M.npy')\n"
   ]
  },
  {
   "cell_type": "code",
   "execution_count": null,
   "id": "6b0a2e23",
   "metadata": {
    "execution": {
     "iopub.execute_input": "2023-10-05T14:35:21.377106Z",
     "iopub.status.busy": "2023-10-05T14:35:21.376701Z",
     "iopub.status.idle": "2023-10-05T14:35:21.380652Z",
     "shell.execute_reply": "2023-10-05T14:35:21.379989Z"
    },
    "id": "wO0GzRzVFbR2",
    "papermill": {
     "duration": 2.583553,
     "end_time": "2023-10-05T14:35:21.382273",
     "exception": false,
     "start_time": "2023-10-05T14:35:18.798720",
     "status": "completed"
    },
    "tags": []
   },
   "outputs": [],
   "source": [
    "# np.save('/content/bitboard_dataset_5M.npy', bitboard_dataset)\n",
    "# np.save('/content/labels_dataset_5M.npy', labels)\n",
    "\n",
    "# # bitboard_dataset=np.load(\"/content/chess-numpy-dataset/bitboard_dataset_1M.npy\")\n",
    "# # labels=np.load(\"/content/chess-numpy-dataset/labels_dataset.npy\")"
   ]
  },
  {
   "cell_type": "code",
   "execution_count": null,
   "id": "ddb0c5e6",
   "metadata": {
    "execution": {
     "iopub.execute_input": "2023-10-05T14:35:26.156680Z",
     "iopub.status.busy": "2023-10-05T14:35:26.155907Z",
     "iopub.status.idle": "2023-10-05T14:35:26.377934Z",
     "shell.execute_reply": "2023-10-05T14:35:26.376530Z"
    },
    "id": "9R9tx4vtmquf",
    "outputId": "d8c93322-6b50-4a20-b8f3-1b6987054c07",
    "papermill": {
     "duration": 2.670901,
     "end_time": "2023-10-05T14:35:26.379541",
     "exception": true,
     "start_time": "2023-10-05T14:35:23.708640",
     "status": "failed"
    },
    "tags": []
   },
   "outputs": [],
   "source": [
    "print(bitboard_dataset.shape)\n",
    "print(labels.shape)"
   ]
  },
  {
   "cell_type": "code",
   "execution_count": null,
   "id": "d1c470a5",
   "metadata": {
    "execution": {
     "iopub.execute_input": "2023-10-04T22:53:23.493761Z",
     "iopub.status.busy": "2023-10-04T22:53:23.492622Z",
     "iopub.status.idle": "2023-10-04T23:02:19.712921Z",
     "shell.execute_reply": "2023-10-04T23:02:19.711761Z",
     "shell.execute_reply.started": "2023-10-04T22:53:23.493711Z"
    },
    "id": "y9qEfiSErKrv",
    "papermill": {
     "duration": null,
     "end_time": null,
     "exception": null,
     "start_time": null,
     "status": "pending"
    },
    "tags": []
   },
   "outputs": [],
   "source": [
    "# from tensorflow.keras import layers\n",
    "# from tensorflow.keras.models import Model\n",
    "# from sklearn.model_selection import train_test_split\n",
    "# from sklearn.utils import shuffle\n",
    "# from tensorflow import keras\n",
    "# from tensorflow.keras.layers import Input, Conv2D, Conv3D, Flatten, Dense, Concatenate\n",
    "# from tensorflow.keras.activations import relu\n",
    "# import tensorflow as tf\n",
    "# from tensorflow.keras.layers import DepthwiseConv2D\n",
    "\n",
    "\n",
    "# # ... Assuming bitboard_dataset and labels are defined ...\n",
    "\n",
    "# bitboard_dataset, labels = shuffle(bitboard_dataset, labels)\n",
    "# X_train, X_test, y_train, y_test = train_test_split(bitboard_dataset, labels, test_size=0.2, random_state=42)\n",
    "\n",
    "# # Radial Basis Function activation\n",
    "# def rbf(x):\n",
    "#     return tf.exp(-x**2)\n",
    "\n",
    "# # Input layer\n",
    "# input_layer_2d = layers.Input(shape=(15,8, 8))  # for 2D convolutions\n",
    "# input_layer_3d = layers.Reshape((15, 8, 8, 1))(input_layer_2d)  # for 3D convolutions\n",
    "\n",
    "# # Branch 1: Depthwise Convolution\n",
    "# branch1 = DepthwiseConv2D(kernel_size=(1, 1), depth_multiplier=1, activation=relu)(input_layer_2d)\n",
    "# branch1 = Conv2D(filters=15, kernel_size=(8, 8), activation=relu)(branch1)\n",
    "# branch1 = Flatten()(branch1)  # Flatten branch1\n",
    "# # Branch 2: Conv3D\n",
    "# branch2 = Conv3D(filters=16, kernel_size=(5, 5, 5), padding='valid', activation=relu)(input_layer_3d)\n",
    "# branch2 = Conv3D(filters=8, kernel_size=(3, 3, 3), padding='valid', activation=relu)(branch2)\n",
    "# branch2 = Flatten()(branch2)  # Flatten branch2\n",
    "\n",
    "# # Branch 3: Conv3 (Only to the 15th channel)\n",
    "# branch3_input = tf.gather(input_layer_2d, [13,14], axis=3)  # Extract the 15th channel\n",
    "# branch3 = DepthwiseConv2D(kernel_size=(1, 1), depth_multiplier=1, activation=relu)(branch3_input)\n",
    "# branch3 = Conv2D(filters=10, kernel_size=(8,8), activation=relu)(branch3)\n",
    "# branch3 = Conv2D(filters=2\n",
    "#                  , kernel_size=(1, 1), activation=relu)(branch3)\n",
    "# branch3 = Flatten()(branch3)  # Flatten branch3\n",
    "\n",
    "# concat = Concatenate()([branch1, branch2, branch3])\n",
    "\n",
    "# # Dense layers\n",
    "# dense1 = Dense(64, activation='relu')(concat)\n",
    "# dense2 = Dense(32, activation='relu')(dense1)\n",
    "# dense3 = Dense(16, activation='relu')(dense2)\n",
    "# output_layer = Dense(1)(dense3)  # No activation function for regression\n",
    "\n",
    "# # Create the model\n",
    "# model = Model(inputs=input_layer_2d, outputs=output_layer)\n",
    "# model.compile(optimizer='adam', loss='mean_squared_error', metrics=['mae', 'mape'])\n",
    "\n",
    "# # Train the model\n",
    "# model.fit(X_train, y_train, epochs=200, batch_size=1000, validation_split=0.1)\n",
    "\n",
    "# # Evaluate the model\n",
    "# loss, mae, mape = model.evaluate(X_test, y_test)\n",
    "# print(\"Test Loss:\", loss)\n",
    "# print(\"Mean Absolute Error:\", mae)\n",
    "# print(\"Mean Absolute Percentage Error:\", mape)\n"
   ]
  },
  {
   "cell_type": "code",
   "execution_count": null,
   "id": "9acab8e8",
   "metadata": {
    "execution": {
     "iopub.execute_input": "2023-10-04T23:14:27.236736Z",
     "iopub.status.busy": "2023-10-04T23:14:27.235611Z",
     "iopub.status.idle": "2023-10-04T23:14:27.354507Z",
     "shell.execute_reply": "2023-10-04T23:14:27.353353Z",
     "shell.execute_reply.started": "2023-10-04T23:14:27.236700Z"
    },
    "papermill": {
     "duration": null,
     "end_time": null,
     "exception": null,
     "start_time": null,
     "status": "pending"
    },
    "tags": []
   },
   "outputs": [],
   "source": [
    "# model.save('chess_1.h5')\n"
   ]
  }
 ],
 "metadata": {
  "kernelspec": {
   "display_name": "Python 3",
   "language": "python",
   "name": "python3"
  },
  "language_info": {
   "codemirror_mode": {
    "name": "ipython",
    "version": 3
   },
   "file_extension": ".py",
   "mimetype": "text/x-python",
   "name": "python",
   "nbconvert_exporter": "python",
   "pygments_lexer": "ipython3",
   "version": "3.10.12"
  },
  "papermill": {
   "default_parameters": {},
   "duration": 8323.214385,
   "end_time": "2023-10-05T14:35:32.174419",
   "environment_variables": {},
   "exception": true,
   "input_path": "__notebook__.ipynb",
   "output_path": "__notebook__.ipynb",
   "parameters": {},
   "start_time": "2023-10-05T12:16:48.960034",
   "version": "2.4.0"
  }
 },
 "nbformat": 4,
 "nbformat_minor": 5
}
