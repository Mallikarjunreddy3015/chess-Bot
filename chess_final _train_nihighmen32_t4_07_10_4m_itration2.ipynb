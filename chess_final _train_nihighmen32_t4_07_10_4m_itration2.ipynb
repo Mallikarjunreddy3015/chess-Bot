{
  "cells": [
    {
      "cell_type": "code",
      "execution_count": 1,
      "metadata": {
        "colab": {
          "base_uri": "https://localhost:8080/"
        },
        "id": "uXu6D-nv_Z3N",
        "outputId": "498f6b1c-cd3c-4aa7-a2aa-05d4f449232f",
        "executionInfo": {
          "status": "ok",
          "timestamp": 1696697204867,
          "user_tz": -330,
          "elapsed": 18228,
          "user": {
            "displayName": "",
            "userId": ""
          }
        }
      },
      "outputs": [
        {
          "output_type": "stream",
          "name": "stdout",
          "text": [
            "Requirement already satisfied: python-chess in /usr/local/lib/python3.10/dist-packages (1.999)\n",
            "Requirement already satisfied: chess<2,>=1 in /usr/local/lib/python3.10/dist-packages (from python-chess) (1.10.0)\n",
            "Requirement already satisfied: psutil in /usr/local/lib/python3.10/dist-packages (5.9.5)\n",
            "Requirement already satisfied: google-cloud-storage in /usr/local/lib/python3.10/dist-packages (2.8.0)\n",
            "Requirement already satisfied: google-auth<3.0dev,>=1.25.0 in /usr/local/lib/python3.10/dist-packages (from google-cloud-storage) (2.17.3)\n",
            "Requirement already satisfied: google-api-core!=2.0.*,!=2.1.*,!=2.2.*,!=2.3.0,<3.0.0dev,>=1.31.5 in /usr/local/lib/python3.10/dist-packages (from google-cloud-storage) (2.11.1)\n",
            "Requirement already satisfied: google-cloud-core<3.0dev,>=2.3.0 in /usr/local/lib/python3.10/dist-packages (from google-cloud-storage) (2.3.3)\n",
            "Requirement already satisfied: google-resumable-media>=2.3.2 in /usr/local/lib/python3.10/dist-packages (from google-cloud-storage) (2.6.0)\n",
            "Requirement already satisfied: requests<3.0.0dev,>=2.18.0 in /usr/local/lib/python3.10/dist-packages (from google-cloud-storage) (2.31.0)\n",
            "Requirement already satisfied: googleapis-common-protos<2.0.dev0,>=1.56.2 in /usr/local/lib/python3.10/dist-packages (from google-api-core!=2.0.*,!=2.1.*,!=2.2.*,!=2.3.0,<3.0.0dev,>=1.31.5->google-cloud-storage) (1.60.0)\n",
            "Requirement already satisfied: protobuf!=3.20.0,!=3.20.1,!=4.21.0,!=4.21.1,!=4.21.2,!=4.21.3,!=4.21.4,!=4.21.5,<5.0.0.dev0,>=3.19.5 in /usr/local/lib/python3.10/dist-packages (from google-api-core!=2.0.*,!=2.1.*,!=2.2.*,!=2.3.0,<3.0.0dev,>=1.31.5->google-cloud-storage) (3.20.3)\n",
            "Requirement already satisfied: cachetools<6.0,>=2.0.0 in /usr/local/lib/python3.10/dist-packages (from google-auth<3.0dev,>=1.25.0->google-cloud-storage) (5.3.1)\n",
            "Requirement already satisfied: pyasn1-modules>=0.2.1 in /usr/local/lib/python3.10/dist-packages (from google-auth<3.0dev,>=1.25.0->google-cloud-storage) (0.3.0)\n",
            "Requirement already satisfied: six>=1.9.0 in /usr/local/lib/python3.10/dist-packages (from google-auth<3.0dev,>=1.25.0->google-cloud-storage) (1.16.0)\n",
            "Requirement already satisfied: rsa<5,>=3.1.4 in /usr/local/lib/python3.10/dist-packages (from google-auth<3.0dev,>=1.25.0->google-cloud-storage) (4.9)\n",
            "Requirement already satisfied: google-crc32c<2.0dev,>=1.0 in /usr/local/lib/python3.10/dist-packages (from google-resumable-media>=2.3.2->google-cloud-storage) (1.5.0)\n",
            "Requirement already satisfied: charset-normalizer<4,>=2 in /usr/local/lib/python3.10/dist-packages (from requests<3.0.0dev,>=2.18.0->google-cloud-storage) (3.2.0)\n",
            "Requirement already satisfied: idna<4,>=2.5 in /usr/local/lib/python3.10/dist-packages (from requests<3.0.0dev,>=2.18.0->google-cloud-storage) (3.4)\n",
            "Requirement already satisfied: urllib3<3,>=1.21.1 in /usr/local/lib/python3.10/dist-packages (from requests<3.0.0dev,>=2.18.0->google-cloud-storage) (2.0.4)\n",
            "Requirement already satisfied: certifi>=2017.4.17 in /usr/local/lib/python3.10/dist-packages (from requests<3.0.0dev,>=2.18.0->google-cloud-storage) (2023.7.22)\n",
            "Requirement already satisfied: pyasn1<0.6.0,>=0.4.6 in /usr/local/lib/python3.10/dist-packages (from pyasn1-modules>=0.2.1->google-auth<3.0dev,>=1.25.0->google-cloud-storage) (0.5.0)\n"
          ]
        }
      ],
      "source": [
        "!pip install python-chess\n",
        "!pip install psutil\n",
        "!pip install google-cloud-storage\n",
        "\n",
        "import numpy as np\n",
        "import pandas as pd\n",
        "import glob\n",
        "import os\n",
        "import chess\n"
      ]
    },
    {
      "cell_type": "code",
      "source": [
        "from numba import cuda\n",
        "cuda.select_device(0)\n",
        "cuda.close()\n"
      ],
      "metadata": {
        "id": "Ujfa8myT9FWf"
      },
      "execution_count": null,
      "outputs": []
    },
    {
      "cell_type": "code",
      "source": [
        "import psutil\n",
        "memory = psutil.virtual_memory()\n",
        "print(f\"Total RAM: {memory.total / (1024 ** 3):.2f} GB\")\n",
        "!nvidia-smi\n"
      ],
      "metadata": {
        "id": "_Kw8L5mmaSlc",
        "outputId": "8d008542-8079-4b0c-96e3-9c51dc9ee467",
        "colab": {
          "base_uri": "https://localhost:8080/"
        },
        "executionInfo": {
          "status": "ok",
          "timestamp": 1696695925662,
          "user_tz": -330,
          "elapsed": 1032,
          "user": {
            "displayName": "",
            "userId": ""
          }
        }
      },
      "execution_count": null,
      "outputs": [
        {
          "output_type": "stream",
          "name": "stdout",
          "text": [
            "Total RAM: 204.46 GB\n",
            "Sat Oct  7 16:25:24 2023       \n",
            "+---------------------------------------------------------------------------------------+\n",
            "| NVIDIA-SMI 535.104.05             Driver Version: 535.104.05   CUDA Version: 12.2     |\n",
            "|-----------------------------------------+----------------------+----------------------+\n",
            "| GPU  Name                 Persistence-M | Bus-Id        Disp.A | Volatile Uncorr. ECC |\n",
            "| Fan  Temp   Perf          Pwr:Usage/Cap |         Memory-Usage | GPU-Util  Compute M. |\n",
            "|                                         |                      |               MIG M. |\n",
            "|=========================================+======================+======================|\n",
            "|   0  Tesla T4                       Off | 00000000:00:04.0 Off |                    0 |\n",
            "| N/A   59C    P8              11W /  70W |      5MiB / 15360MiB |      0%      Default |\n",
            "|                                         |                      |                  N/A |\n",
            "+-----------------------------------------+----------------------+----------------------+\n",
            "                                                                                         \n",
            "+---------------------------------------------------------------------------------------+\n",
            "| Processes:                                                                            |\n",
            "|  GPU   GI   CI        PID   Type   Process name                            GPU Memory |\n",
            "|        ID   ID                                                             Usage      |\n",
            "|=======================================================================================|\n",
            "|  No running processes found                                                           |\n",
            "+---------------------------------------------------------------------------------------+\n"
          ]
        }
      ]
    },
    {
      "cell_type": "code",
      "source": [
        "import os\n",
        "\n",
        "os.environ[\"GOOGLE_APPLICATION_CREDENTIALS\"] = \"/content/gleaming-modem-400906-3780658b0f47.json\"\n",
        "from google.cloud import storage\n",
        "\n",
        "def download_from_bucket(blob_name, path_to_save_to, bucket_name):\n",
        "    client = storage.Client()\n",
        "\n",
        "    bucket = client.get_bucket(bucket_name)\n",
        "    blob = bucket.blob(blob_name)\n",
        "    blob.download_to_filename(path_to_save_to)\n",
        "    print(f\"File {blob_name} downloaded to {path_to_save_to}.\")\n",
        "\n",
        "# Use the function to download your file:\n",
        "download_from_bucket(\"final_4M_bits.npy\", \"/content/final_4M_bits.npy\", \"chess_data_all\")\n",
        "download_from_bucket(\"final_4M_labels.npy\", \"/content/final_4M_labels.npy\", \"chess_data_all\")\n"
      ],
      "metadata": {
        "colab": {
          "base_uri": "https://localhost:8080/"
        },
        "id": "_SV1_hnRi4En",
        "executionInfo": {
          "status": "ok",
          "timestamp": 1696680366398,
          "user_tz": -330,
          "elapsed": 1129394,
          "user": {
            "displayName": "",
            "userId": ""
          }
        },
        "outputId": "a48bd275-a191-4403-d594-6aae37abcde1"
      },
      "execution_count": null,
      "outputs": [
        {
          "output_type": "stream",
          "name": "stdout",
          "text": [
            "File final_4M_bits.npy downloaded to /content/final_4M_bits.npy.\n",
            "File final_4M_labels.npy downloaded to /content/final_4M_labels.npy.\n"
          ]
        }
      ]
    },
    {
      "cell_type": "code",
      "execution_count": 2,
      "metadata": {
        "id": "bnfn9WPEni1p",
        "executionInfo": {
          "status": "ok",
          "timestamp": 1696697214803,
          "user_tz": -330,
          "elapsed": 9941,
          "user": {
            "displayName": "",
            "userId": ""
          }
        }
      },
      "outputs": [],
      "source": [
        "bitboard_dataset=np.load(\"/content/final_4M_bits.npy\")\n",
        "labels=np.load(\"/content/final_4M_labels.npy\")"
      ]
    },
    {
      "cell_type": "code",
      "source": [
        "print(bitboard_dataset.shape ,bitboard_dataset[0])\n",
        "print(labels.shape ,labels[0])"
      ],
      "metadata": {
        "colab": {
          "base_uri": "https://localhost:8080/"
        },
        "id": "CkrhPafx9Sxh",
        "executionInfo": {
          "status": "ok",
          "timestamp": 1696680380152,
          "user_tz": -330,
          "elapsed": 13,
          "user": {
            "displayName": "",
            "userId": ""
          }
        },
        "outputId": "66fb5147-73ab-47ec-a77a-b0677538f3ac"
      },
      "execution_count": null,
      "outputs": [
        {
          "output_type": "stream",
          "name": "stdout",
          "text": [
            "(3952040, 16, 8, 8) [[[  0.   0.   0. ...   0.   0.   0.]\n",
            "  [ 11.  11.  11. ...  11.  11.  11.]\n",
            "  [  1.   1.   1. ...   1.   1.   1.]\n",
            "  ...\n",
            "  [  0.   0.   0. ...   0.   0.   0.]\n",
            "  [  0.   0.   0. ...   0.   0.   0.]\n",
            "  [  0.   0.   0. ...   0.   0.   0.]]\n",
            "\n",
            " [[  0.   0.   0. ...   0.   0.   0.]\n",
            "  [  0.   0.   0. ...   0.   0.   0.]\n",
            "  [  0.   0.   0. ...   0.   0.   0.]\n",
            "  ...\n",
            "  [ -1.  -1.  -1. ...  -1.  -1.  -1.]\n",
            "  [-11. -11. -11. ... -11. -11. -11.]\n",
            "  [  0.   0.   0. ...   0.   0.   0.]]\n",
            "\n",
            " [[  0.  44.   0. ...   0.  44.   0.]\n",
            "  [  0.   0.   0. ...   0.   0.   0.]\n",
            "  [  4.   0.   4. ...   4.   0.   4.]\n",
            "  ...\n",
            "  [  0.   0.   0. ...   0.   0.   0.]\n",
            "  [  0.   0.   0. ...   0.   0.   0.]\n",
            "  [  0.   0.   0. ...   0.   0.   0.]]\n",
            "\n",
            " ...\n",
            "\n",
            " [[ 55.  44.  33. ...  33.  44.  55.]\n",
            "  [ 11.  11.  11. ...  11.  11.  11.]\n",
            "  [  0.   0.   0. ...   0.   0.   0.]\n",
            "  ...\n",
            "  [  0.   0.   0. ...   0.   0.   0.]\n",
            "  [  0.   0.   0. ...   0.   0.   0.]\n",
            "  [  0.   0.   0. ...   0.   0.   0.]]\n",
            "\n",
            " [[  0.   0.   0. ...   0.   0.   0.]\n",
            "  [  0.   0.   0. ...   0.   0.   0.]\n",
            "  [  0.   0.   0. ...   0.   0.   0.]\n",
            "  ...\n",
            "  [  0.   0.   0. ...   0.   0.   0.]\n",
            "  [-11. -11. -11. ... -11. -11. -11.]\n",
            "  [-55. -44. -33. ... -33. -44. -55.]]\n",
            "\n",
            " [[  0.   0.   0. ...   0.   0.   0.]\n",
            "  [  0.   0.   0. ...   0.   0.   0.]\n",
            "  [  0.   0.   0. ...   0.   0.   0.]\n",
            "  ...\n",
            "  [  0.   0.   0. ...   0.   0.   0.]\n",
            "  [ -1.  -1.  -1. ...  -1.  -1.  -1.]\n",
            "  [  0.  -1.   0. ...   0.  -1.   0.]]]\n",
            "(3952040,) -1.4285714285714457\n"
          ]
        }
      ]
    },
    {
      "cell_type": "code",
      "source": [
        "from tensorflow.keras import layers\n",
        "from tensorflow.keras.models import Model\n",
        "from sklearn.model_selection import train_test_split\n",
        "from sklearn.utils import shuffle\n",
        "from tensorflow import keras\n",
        "from tensorflow.keras.layers import Input, Conv2D, Conv3D, Flatten, Dense, Concatenate\n",
        "from tensorflow.keras.activations import relu\n",
        "import tensorflow as tf\n",
        "from tensorflow.keras.layers import DepthwiseConv2D\n",
        "\n",
        "\n",
        "# ... Assuming bitboard_dataset and labels are defined ...\n",
        "\n",
        "bitboard_dataset, labels = shuffle(bitboard_dataset, labels)\n",
        "X_train, X_test, y_train, y_test = train_test_split(bitboard_dataset, labels, test_size=0.2, random_state=42)\n",
        "\n",
        "\n",
        "# Input layer\n",
        "input_layer_2d = layers.Input(shape=(16,8, 8))  # for 2D convolutions\n",
        "input_layer_3d = layers.Reshape((16, 8, 8, 1))(input_layer_2d)  # for 3D convolutions\n"
      ],
      "metadata": {
        "id": "cjyNKNin14dd",
        "executionInfo": {
          "status": "ok",
          "timestamp": 1696697238890,
          "user_tz": -330,
          "elapsed": 24093,
          "user": {
            "displayName": "",
            "userId": ""
          }
        }
      },
      "execution_count": 3,
      "outputs": []
    },
    {
      "cell_type": "code",
      "source": [
        "from tensorflow.keras.layers import BatchNormalization, Dropout, Activation\n",
        "\n",
        "# Branch 1: Depthwise Convolution\n",
        "branch1 = DepthwiseConv2D(kernel_size=(1, 1), depth_multiplier=1, activation=relu)(input_layer_2d)\n",
        "branch1 = BatchNormalization()(branch1)\n",
        "branch1 = Dropout(0.1)(branch1)\n",
        "\n",
        "\n",
        "branch4 = Conv2D(filters=3, kernel_size=(6, 6), activation=relu)(branch1)\n",
        "branch4 = BatchNormalization()(branch4)\n",
        "branch4 = Dropout(0.1)(branch4)\n",
        "# branch4 = Conv2D(filters=5, kernel_size=(2, 2), activation=relu)(branch4)\n",
        "\n",
        "# Branch 2: Conv3D\n",
        "branch2 = Conv3D(filters=6, kernel_size=(6, 6, 6), padding='valid', activation=relu)(input_layer_3d)\n",
        "branch2 = BatchNormalization()(branch2)\n",
        "branch2 = Dropout(0.1)(branch2)\n",
        "branch2 = Conv3D(filters=3, kernel_size=(2, 2, 2), padding='valid', activation=relu)(branch2)\n",
        "branch2 = BatchNormalization()(branch2)\n",
        "\n",
        "\n",
        "\n",
        "# Branch 3: Conv3 (Only to the 15th channel)\n",
        "branch3_input = tf.gather(input_layer_2d, [13,14], axis=3)  # Extract the 15th channel\n",
        "branch3 = DepthwiseConv2D(kernel_size=(1, 1), depth_multiplier=1, activation=relu)(branch3_input)\n",
        "branch3 = Conv2D(filters=6, kernel_size=(5,5), activation=relu)(branch3)\n",
        "# branch3 = Conv2D(filters=3, kernel_size=(1, 1), activation=relu)(branch3)\n",
        "branch3 = BatchNormalization()(branch3)\n",
        "branch3 = Dropout(0.1)(branch3)\n",
        "\n",
        "\n",
        "branch1 = Flatten()(branch1)\n",
        "branch2 = Flatten()(branch2)  # Flatten branch2\n",
        "branch4 = Flatten()(branch4)\n",
        "branch3 = Flatten()(branch3)  # Flatten branch3\n",
        "\n",
        "concat = Concatenate()([branch1,branch4, branch2, branch3])\n",
        "\n",
        "# Dense layers\n",
        "dense1 = Dense(800)(concat)\n",
        "dense1 = BatchNormalization()(dense1)\n",
        "dense1 = Activation('relu')(dense1)\n",
        "dense1 = Dropout(0.2)(dense1)\n",
        "\n",
        "dense2 = Dense(400)(dense1)\n",
        "dense2 = BatchNormalization()(dense2)\n",
        "dense2 = Activation('relu')(dense2)\n",
        "dense2 = Dropout(0.2)(dense2)\n",
        "\n",
        "dense3 = Dense(120)(dense2)\n",
        "dense3 = BatchNormalization()(dense3)\n",
        "dense3 = Activation('relu')(dense3)\n",
        "dense3 = Dropout(0.2)(dense3)\n",
        "\n",
        "dense4 = Dense(50)(dense3)\n",
        "dense4 = BatchNormalization()(dense4)\n",
        "dense4 = Activation('relu')(dense4)\n",
        "dense4 = Dropout(0.2)(dense4)\n",
        "\n",
        "output_layer = Dense(1)(dense4)\n",
        "\n",
        "# Create the model\n",
        "model = Model(inputs=input_layer_2d, outputs=output_layer)\n",
        "model.compile(optimizer='adam', loss='mean_squared_error', metrics=['mae'])\n",
        "\n",
        "# Train the model\n",
        "model.fit(X_train, y_train, epochs=300, batch_size=400, validation_split=0.1)\n",
        "\n",
        "# Evaluate the model\n",
        "loss, mae= model.evaluate(X_test, y_test)\n",
        "print(\"Test Loss:\", loss)\n",
        "print(\"Mean Absolute Error:\", mae)"
      ],
      "metadata": {
        "id": "tQeo2FuNIIkp",
        "colab": {
          "base_uri": "https://localhost:8080/",
          "height": 1000
        },
        "executionInfo": {
          "status": "error",
          "timestamp": 1696702503753,
          "user_tz": -330,
          "elapsed": 5264870,
          "user": {
            "displayName": "",
            "userId": ""
          }
        },
        "outputId": "5d269554-e0f8-4690-9f4c-be23d9921d57"
      },
      "execution_count": 4,
      "outputs": [
        {
          "output_type": "stream",
          "name": "stdout",
          "text": [
            "Epoch 1/300\n",
            "7114/7114 [==============================] - 86s 11ms/step - loss: 8813.6436 - mae: 38.7528 - val_loss: 7973.2393 - val_mae: 36.2919\n",
            "Epoch 2/300\n",
            "7114/7114 [==============================] - 72s 10ms/step - loss: 7994.9854 - mae: 37.3245 - val_loss: 8697.3428 - val_mae: 39.5504\n",
            "Epoch 3/300\n",
            "7114/7114 [==============================] - 72s 10ms/step - loss: 7544.2451 - mae: 36.4609 - val_loss: 7152.1411 - val_mae: 33.8288\n",
            "Epoch 4/300\n",
            "7114/7114 [==============================] - 72s 10ms/step - loss: 7138.2651 - mae: 35.8202 - val_loss: 7197.7998 - val_mae: 34.5941\n",
            "Epoch 5/300\n",
            "7114/7114 [==============================] - 72s 10ms/step - loss: 6757.5215 - mae: 35.1530 - val_loss: 6602.5278 - val_mae: 32.5224\n",
            "Epoch 6/300\n",
            "7114/7114 [==============================] - 72s 10ms/step - loss: 6451.5669 - mae: 34.5951 - val_loss: 6456.6782 - val_mae: 32.2436\n",
            "Epoch 7/300\n",
            "7114/7114 [==============================] - 72s 10ms/step - loss: 6148.6763 - mae: 34.0885 - val_loss: 6368.2158 - val_mae: 32.2585\n",
            "Epoch 8/300\n",
            "7114/7114 [==============================] - 74s 10ms/step - loss: 5904.5728 - mae: 33.6262 - val_loss: 6195.0054 - val_mae: 31.8588\n",
            "Epoch 9/300\n",
            "7114/7114 [==============================] - 74s 10ms/step - loss: 5687.3022 - mae: 33.2187 - val_loss: 6252.1079 - val_mae: 32.4008\n",
            "Epoch 10/300\n",
            "7114/7114 [==============================] - 74s 10ms/step - loss: 5485.5005 - mae: 32.8608 - val_loss: 5939.6729 - val_mae: 31.1777\n",
            "Epoch 11/300\n",
            "7114/7114 [==============================] - 73s 10ms/step - loss: 5349.6069 - mae: 32.6217 - val_loss: 6422.6597 - val_mae: 33.1335\n",
            "Epoch 12/300\n",
            "7114/7114 [==============================] - 71s 10ms/step - loss: 5192.6748 - mae: 32.3168 - val_loss: 5855.9766 - val_mae: 30.8743\n",
            "Epoch 13/300\n",
            "7114/7114 [==============================] - 71s 10ms/step - loss: 5073.9028 - mae: 32.0937 - val_loss: 5768.1890 - val_mae: 30.7825\n",
            "Epoch 14/300\n",
            "7114/7114 [==============================] - 71s 10ms/step - loss: 4924.4658 - mae: 31.8426 - val_loss: 5822.2622 - val_mae: 31.2168\n",
            "Epoch 15/300\n",
            "7114/7114 [==============================] - 72s 10ms/step - loss: 4839.1489 - mae: 31.6921 - val_loss: 6067.0186 - val_mae: 33.2266\n",
            "Epoch 16/300\n",
            "7114/7114 [==============================] - 73s 10ms/step - loss: 4730.9736 - mae: 31.4891 - val_loss: 5649.6890 - val_mae: 30.4859\n",
            "Epoch 17/300\n",
            "7114/7114 [==============================] - 73s 10ms/step - loss: 4633.0532 - mae: 31.2961 - val_loss: 5533.6826 - val_mae: 30.5880\n",
            "Epoch 18/300\n",
            "7114/7114 [==============================] - 72s 10ms/step - loss: 4571.4014 - mae: 31.1605 - val_loss: 5490.4336 - val_mae: 30.4215\n",
            "Epoch 19/300\n",
            "7114/7114 [==============================] - 73s 10ms/step - loss: 4477.1777 - mae: 30.9919 - val_loss: 5718.4678 - val_mae: 31.2119\n",
            "Epoch 20/300\n",
            "7114/7114 [==============================] - 73s 10ms/step - loss: 4395.3857 - mae: 30.8581 - val_loss: 5539.1895 - val_mae: 30.2359\n",
            "Epoch 21/300\n",
            "7114/7114 [==============================] - 72s 10ms/step - loss: 4346.6997 - mae: 30.7358 - val_loss: 5503.3452 - val_mae: 30.5592\n",
            "Epoch 22/300\n",
            "7114/7114 [==============================] - 72s 10ms/step - loss: 4266.9951 - mae: 30.5730 - val_loss: 5421.7710 - val_mae: 30.3450\n",
            "Epoch 23/300\n",
            "7114/7114 [==============================] - 72s 10ms/step - loss: 4206.0020 - mae: 30.4708 - val_loss: 5409.0391 - val_mae: 29.9879\n",
            "Epoch 24/300\n",
            "7114/7114 [==============================] - 73s 10ms/step - loss: 4165.5444 - mae: 30.3696 - val_loss: 5481.5459 - val_mae: 30.4349\n",
            "Epoch 25/300\n",
            "7114/7114 [==============================] - 74s 10ms/step - loss: 4104.2725 - mae: 30.2508 - val_loss: 5400.9814 - val_mae: 29.7942\n",
            "Epoch 26/300\n",
            "7114/7114 [==============================] - 73s 10ms/step - loss: 4030.6221 - mae: 30.1172 - val_loss: 5529.5469 - val_mae: 30.5396\n",
            "Epoch 27/300\n",
            "7114/7114 [==============================] - 73s 10ms/step - loss: 4016.4668 - mae: 30.0512 - val_loss: 5349.0747 - val_mae: 30.0015\n",
            "Epoch 28/300\n",
            "7114/7114 [==============================] - 72s 10ms/step - loss: 3954.0264 - mae: 29.9236 - val_loss: 5265.3066 - val_mae: 29.5555\n",
            "Epoch 29/300\n",
            "7114/7114 [==============================] - 71s 10ms/step - loss: 3892.7935 - mae: 29.7834 - val_loss: 5286.6377 - val_mae: 29.5292\n",
            "Epoch 30/300\n",
            "7114/7114 [==============================] - 71s 10ms/step - loss: 3881.1887 - mae: 29.7559 - val_loss: 5298.8696 - val_mae: 29.4911\n",
            "Epoch 31/300\n",
            "7114/7114 [==============================] - 72s 10ms/step - loss: 3830.3284 - mae: 29.6561 - val_loss: 5224.3394 - val_mae: 29.3569\n",
            "Epoch 32/300\n",
            "7114/7114 [==============================] - 72s 10ms/step - loss: 3804.4463 - mae: 29.5940 - val_loss: 5459.0986 - val_mae: 29.8911\n",
            "Epoch 33/300\n",
            "7114/7114 [==============================] - 72s 10ms/step - loss: 3744.8237 - mae: 29.4605 - val_loss: 5272.0054 - val_mae: 29.3070\n",
            "Epoch 34/300\n",
            "7114/7114 [==============================] - 70s 10ms/step - loss: 3717.5110 - mae: 29.4130 - val_loss: 5196.9585 - val_mae: 29.2044\n",
            "Epoch 35/300\n",
            "7114/7114 [==============================] - 71s 10ms/step - loss: 3686.9209 - mae: 29.3301 - val_loss: 5245.8052 - val_mae: 29.2219\n",
            "Epoch 36/300\n",
            "7114/7114 [==============================] - 73s 10ms/step - loss: 3657.1455 - mae: 29.2509 - val_loss: 5405.1646 - val_mae: 29.7286\n",
            "Epoch 37/300\n",
            "7114/7114 [==============================] - 73s 10ms/step - loss: 3620.0933 - mae: 29.1854 - val_loss: 5196.3071 - val_mae: 29.2340\n",
            "Epoch 38/300\n",
            "7114/7114 [==============================] - 72s 10ms/step - loss: 3612.3718 - mae: 29.1302 - val_loss: 5202.5400 - val_mae: 29.2197\n",
            "Epoch 39/300\n",
            "7114/7114 [==============================] - 72s 10ms/step - loss: 3579.6638 - mae: 29.0952 - val_loss: 5151.6885 - val_mae: 28.9914\n",
            "Epoch 40/300\n",
            "7114/7114 [==============================] - 72s 10ms/step - loss: 3562.2815 - mae: 29.0420 - val_loss: 5200.1099 - val_mae: 28.9645\n",
            "Epoch 41/300\n",
            "7114/7114 [==============================] - 71s 10ms/step - loss: 3538.3838 - mae: 28.9858 - val_loss: 5233.4429 - val_mae: 29.0346\n",
            "Epoch 42/300\n",
            "7114/7114 [==============================] - 72s 10ms/step - loss: 3496.2095 - mae: 28.8900 - val_loss: 5335.8535 - val_mae: 30.0091\n",
            "Epoch 43/300\n",
            "7114/7114 [==============================] - 72s 10ms/step - loss: 3469.2341 - mae: 28.8537 - val_loss: 5122.3477 - val_mae: 28.9688\n",
            "Epoch 44/300\n",
            "7114/7114 [==============================] - 72s 10ms/step - loss: 3453.4814 - mae: 28.7877 - val_loss: 5223.6577 - val_mae: 28.9572\n",
            "Epoch 45/300\n",
            "7114/7114 [==============================] - 73s 10ms/step - loss: 3447.8923 - mae: 28.7624 - val_loss: 5239.2241 - val_mae: 29.2166\n",
            "Epoch 46/300\n",
            "7114/7114 [==============================] - 72s 10ms/step - loss: 3416.5540 - mae: 28.6925 - val_loss: 5115.4385 - val_mae: 28.8283\n",
            "Epoch 47/300\n",
            "7114/7114 [==============================] - 72s 10ms/step - loss: 3397.7849 - mae: 28.6639 - val_loss: 5070.2729 - val_mae: 28.6870\n",
            "Epoch 48/300\n",
            "7114/7114 [==============================] - 73s 10ms/step - loss: 3383.7180 - mae: 28.6215 - val_loss: 5093.2456 - val_mae: 28.8904\n",
            "Epoch 49/300\n",
            "7114/7114 [==============================] - 74s 10ms/step - loss: 3361.9675 - mae: 28.5637 - val_loss: 5114.6230 - val_mae: 28.9534\n",
            "Epoch 50/300\n",
            "7114/7114 [==============================] - 73s 10ms/step - loss: 3329.8154 - mae: 28.4962 - val_loss: 5182.5884 - val_mae: 28.9218\n",
            "Epoch 51/300\n",
            "7114/7114 [==============================] - 72s 10ms/step - loss: 3316.4565 - mae: 28.4546 - val_loss: 5102.3901 - val_mae: 28.7235\n",
            "Epoch 52/300\n",
            "7114/7114 [==============================] - 73s 10ms/step - loss: 3288.5269 - mae: 28.4026 - val_loss: 5221.3853 - val_mae: 28.8856\n",
            "Epoch 53/300\n",
            "7114/7114 [==============================] - 72s 10ms/step - loss: 3289.0779 - mae: 28.3845 - val_loss: 5061.0625 - val_mae: 28.6350\n",
            "Epoch 54/300\n",
            "7114/7114 [==============================] - 72s 10ms/step - loss: 3265.1816 - mae: 28.3548 - val_loss: 5030.1348 - val_mae: 28.6872\n",
            "Epoch 55/300\n",
            "7114/7114 [==============================] - 74s 10ms/step - loss: 3244.1917 - mae: 28.2994 - val_loss: 5043.2881 - val_mae: 28.7001\n",
            "Epoch 56/300\n",
            "7114/7114 [==============================] - 72s 10ms/step - loss: 3217.8015 - mae: 28.2272 - val_loss: 5062.9414 - val_mae: 28.7056\n",
            "Epoch 57/300\n",
            "7114/7114 [==============================] - 73s 10ms/step - loss: 3216.2778 - mae: 28.2418 - val_loss: 5111.7510 - val_mae: 28.9153\n",
            "Epoch 58/300\n",
            "7114/7114 [==============================] - 71s 10ms/step - loss: 3175.9915 - mae: 28.1277 - val_loss: 5181.7510 - val_mae: 28.7356\n",
            "Epoch 59/300\n",
            "7114/7114 [==============================] - 71s 10ms/step - loss: 3175.8564 - mae: 28.1143 - val_loss: 5063.2910 - val_mae: 28.6385\n",
            "Epoch 60/300\n",
            "7114/7114 [==============================] - 71s 10ms/step - loss: 3153.5837 - mae: 28.0767 - val_loss: 5012.2207 - val_mae: 28.5066\n",
            "Epoch 61/300\n",
            "7114/7114 [==============================] - 72s 10ms/step - loss: 3142.7893 - mae: 28.0356 - val_loss: 5066.9746 - val_mae: 28.6707\n",
            "Epoch 62/300\n",
            "7114/7114 [==============================] - 72s 10ms/step - loss: 3155.3184 - mae: 28.0563 - val_loss: 5076.1465 - val_mae: 28.4215\n",
            "Epoch 63/300\n",
            "7114/7114 [==============================] - 72s 10ms/step - loss: 3129.3350 - mae: 28.0026 - val_loss: 5078.7749 - val_mae: 28.7233\n",
            "Epoch 64/300\n",
            "7114/7114 [==============================] - 72s 10ms/step - loss: 3106.0588 - mae: 27.9638 - val_loss: 5035.9038 - val_mae: 28.3995\n",
            "Epoch 65/300\n",
            "7114/7114 [==============================] - 73s 10ms/step - loss: 3098.1711 - mae: 27.9271 - val_loss: 5051.0703 - val_mae: 28.4323\n",
            "Epoch 66/300\n",
            "7114/7114 [==============================] - 72s 10ms/step - loss: 3101.6199 - mae: 27.9216 - val_loss: 5428.7563 - val_mae: 29.3308\n",
            "Epoch 67/300\n",
            "7114/7114 [==============================] - 72s 10ms/step - loss: 3059.7258 - mae: 27.8436 - val_loss: 5004.6470 - val_mae: 28.3810\n",
            "Epoch 68/300\n",
            "7114/7114 [==============================] - 71s 10ms/step - loss: 3069.8828 - mae: 27.8288 - val_loss: 5076.3940 - val_mae: 28.4275\n",
            "Epoch 69/300\n",
            "7114/7114 [==============================] - 72s 10ms/step - loss: 3049.2590 - mae: 27.7920 - val_loss: 5066.3633 - val_mae: 28.5956\n",
            "Epoch 70/300\n",
            "7114/7114 [==============================] - 73s 10ms/step - loss: 3045.7817 - mae: 27.7763 - val_loss: 4984.8794 - val_mae: 28.5503\n",
            "Epoch 71/300\n",
            "7114/7114 [==============================] - 73s 10ms/step - loss: 3016.0647 - mae: 27.7208 - val_loss: 5035.3003 - val_mae: 28.2777\n",
            "Epoch 72/300\n",
            "7114/7114 [==============================] - 73s 10ms/step - loss: 3007.7051 - mae: 27.6753 - val_loss: 5036.4956 - val_mae: 28.1524\n",
            "Epoch 73/300\n",
            "1087/7114 [===>..........................] - ETA: 1:00 - loss: 2915.4849 - mae: 27.4335"
          ]
        },
        {
          "output_type": "error",
          "ename": "KeyboardInterrupt",
          "evalue": "ignored",
          "traceback": [
            "\u001b[0;31m---------------------------------------------------------------------------\u001b[0m",
            "\u001b[0;31mKeyboardInterrupt\u001b[0m                         Traceback (most recent call last)",
            "\u001b[0;32m<ipython-input-4-bddcaca94ea7>\u001b[0m in \u001b[0;36m<cell line: 67>\u001b[0;34m()\u001b[0m\n\u001b[1;32m     65\u001b[0m \u001b[0;34m\u001b[0m\u001b[0m\n\u001b[1;32m     66\u001b[0m \u001b[0;31m# Train the model\u001b[0m\u001b[0;34m\u001b[0m\u001b[0;34m\u001b[0m\u001b[0m\n\u001b[0;32m---> 67\u001b[0;31m \u001b[0mmodel\u001b[0m\u001b[0;34m.\u001b[0m\u001b[0mfit\u001b[0m\u001b[0;34m(\u001b[0m\u001b[0mX_train\u001b[0m\u001b[0;34m,\u001b[0m \u001b[0my_train\u001b[0m\u001b[0;34m,\u001b[0m \u001b[0mepochs\u001b[0m\u001b[0;34m=\u001b[0m\u001b[0;36m300\u001b[0m\u001b[0;34m,\u001b[0m \u001b[0mbatch_size\u001b[0m\u001b[0;34m=\u001b[0m\u001b[0;36m400\u001b[0m\u001b[0;34m,\u001b[0m \u001b[0mvalidation_split\u001b[0m\u001b[0;34m=\u001b[0m\u001b[0;36m0.1\u001b[0m\u001b[0;34m)\u001b[0m\u001b[0;34m\u001b[0m\u001b[0;34m\u001b[0m\u001b[0m\n\u001b[0m\u001b[1;32m     68\u001b[0m \u001b[0;34m\u001b[0m\u001b[0m\n\u001b[1;32m     69\u001b[0m \u001b[0;31m# Evaluate the model\u001b[0m\u001b[0;34m\u001b[0m\u001b[0;34m\u001b[0m\u001b[0m\n",
            "\u001b[0;32m/usr/local/lib/python3.10/dist-packages/keras/src/utils/traceback_utils.py\u001b[0m in \u001b[0;36merror_handler\u001b[0;34m(*args, **kwargs)\u001b[0m\n\u001b[1;32m     63\u001b[0m         \u001b[0mfiltered_tb\u001b[0m \u001b[0;34m=\u001b[0m \u001b[0;32mNone\u001b[0m\u001b[0;34m\u001b[0m\u001b[0;34m\u001b[0m\u001b[0m\n\u001b[1;32m     64\u001b[0m         \u001b[0;32mtry\u001b[0m\u001b[0;34m:\u001b[0m\u001b[0;34m\u001b[0m\u001b[0;34m\u001b[0m\u001b[0m\n\u001b[0;32m---> 65\u001b[0;31m             \u001b[0;32mreturn\u001b[0m \u001b[0mfn\u001b[0m\u001b[0;34m(\u001b[0m\u001b[0;34m*\u001b[0m\u001b[0margs\u001b[0m\u001b[0;34m,\u001b[0m \u001b[0;34m**\u001b[0m\u001b[0mkwargs\u001b[0m\u001b[0;34m)\u001b[0m\u001b[0;34m\u001b[0m\u001b[0;34m\u001b[0m\u001b[0m\n\u001b[0m\u001b[1;32m     66\u001b[0m         \u001b[0;32mexcept\u001b[0m \u001b[0mException\u001b[0m \u001b[0;32mas\u001b[0m \u001b[0me\u001b[0m\u001b[0;34m:\u001b[0m\u001b[0;34m\u001b[0m\u001b[0;34m\u001b[0m\u001b[0m\n\u001b[1;32m     67\u001b[0m             \u001b[0mfiltered_tb\u001b[0m \u001b[0;34m=\u001b[0m \u001b[0m_process_traceback_frames\u001b[0m\u001b[0;34m(\u001b[0m\u001b[0me\u001b[0m\u001b[0;34m.\u001b[0m\u001b[0m__traceback__\u001b[0m\u001b[0;34m)\u001b[0m\u001b[0;34m\u001b[0m\u001b[0;34m\u001b[0m\u001b[0m\n",
            "\u001b[0;32m/usr/local/lib/python3.10/dist-packages/keras/src/engine/training.py\u001b[0m in \u001b[0;36mfit\u001b[0;34m(self, x, y, batch_size, epochs, verbose, callbacks, validation_split, validation_data, shuffle, class_weight, sample_weight, initial_epoch, steps_per_epoch, validation_steps, validation_batch_size, validation_freq, max_queue_size, workers, use_multiprocessing)\u001b[0m\n\u001b[1;32m   1740\u001b[0m                         ):\n\u001b[1;32m   1741\u001b[0m                             \u001b[0mcallbacks\u001b[0m\u001b[0;34m.\u001b[0m\u001b[0mon_train_batch_begin\u001b[0m\u001b[0;34m(\u001b[0m\u001b[0mstep\u001b[0m\u001b[0;34m)\u001b[0m\u001b[0;34m\u001b[0m\u001b[0;34m\u001b[0m\u001b[0m\n\u001b[0;32m-> 1742\u001b[0;31m                             \u001b[0mtmp_logs\u001b[0m \u001b[0;34m=\u001b[0m \u001b[0mself\u001b[0m\u001b[0;34m.\u001b[0m\u001b[0mtrain_function\u001b[0m\u001b[0;34m(\u001b[0m\u001b[0miterator\u001b[0m\u001b[0;34m)\u001b[0m\u001b[0;34m\u001b[0m\u001b[0;34m\u001b[0m\u001b[0m\n\u001b[0m\u001b[1;32m   1743\u001b[0m                             \u001b[0;32mif\u001b[0m \u001b[0mdata_handler\u001b[0m\u001b[0;34m.\u001b[0m\u001b[0mshould_sync\u001b[0m\u001b[0;34m:\u001b[0m\u001b[0;34m\u001b[0m\u001b[0;34m\u001b[0m\u001b[0m\n\u001b[1;32m   1744\u001b[0m                                 \u001b[0mcontext\u001b[0m\u001b[0;34m.\u001b[0m\u001b[0masync_wait\u001b[0m\u001b[0;34m(\u001b[0m\u001b[0;34m)\u001b[0m\u001b[0;34m\u001b[0m\u001b[0;34m\u001b[0m\u001b[0m\n",
            "\u001b[0;32m/usr/local/lib/python3.10/dist-packages/tensorflow/python/util/traceback_utils.py\u001b[0m in \u001b[0;36merror_handler\u001b[0;34m(*args, **kwargs)\u001b[0m\n\u001b[1;32m    148\u001b[0m     \u001b[0mfiltered_tb\u001b[0m \u001b[0;34m=\u001b[0m \u001b[0;32mNone\u001b[0m\u001b[0;34m\u001b[0m\u001b[0;34m\u001b[0m\u001b[0m\n\u001b[1;32m    149\u001b[0m     \u001b[0;32mtry\u001b[0m\u001b[0;34m:\u001b[0m\u001b[0;34m\u001b[0m\u001b[0;34m\u001b[0m\u001b[0m\n\u001b[0;32m--> 150\u001b[0;31m       \u001b[0;32mreturn\u001b[0m \u001b[0mfn\u001b[0m\u001b[0;34m(\u001b[0m\u001b[0;34m*\u001b[0m\u001b[0margs\u001b[0m\u001b[0;34m,\u001b[0m \u001b[0;34m**\u001b[0m\u001b[0mkwargs\u001b[0m\u001b[0;34m)\u001b[0m\u001b[0;34m\u001b[0m\u001b[0;34m\u001b[0m\u001b[0m\n\u001b[0m\u001b[1;32m    151\u001b[0m     \u001b[0;32mexcept\u001b[0m \u001b[0mException\u001b[0m \u001b[0;32mas\u001b[0m \u001b[0me\u001b[0m\u001b[0;34m:\u001b[0m\u001b[0;34m\u001b[0m\u001b[0;34m\u001b[0m\u001b[0m\n\u001b[1;32m    152\u001b[0m       \u001b[0mfiltered_tb\u001b[0m \u001b[0;34m=\u001b[0m \u001b[0m_process_traceback_frames\u001b[0m\u001b[0;34m(\u001b[0m\u001b[0me\u001b[0m\u001b[0;34m.\u001b[0m\u001b[0m__traceback__\u001b[0m\u001b[0;34m)\u001b[0m\u001b[0;34m\u001b[0m\u001b[0;34m\u001b[0m\u001b[0m\n",
            "\u001b[0;32m/usr/local/lib/python3.10/dist-packages/tensorflow/python/eager/polymorphic_function/polymorphic_function.py\u001b[0m in \u001b[0;36m__call__\u001b[0;34m(self, *args, **kwds)\u001b[0m\n\u001b[1;32m    823\u001b[0m \u001b[0;34m\u001b[0m\u001b[0m\n\u001b[1;32m    824\u001b[0m       \u001b[0;32mwith\u001b[0m \u001b[0mOptionalXlaContext\u001b[0m\u001b[0;34m(\u001b[0m\u001b[0mself\u001b[0m\u001b[0;34m.\u001b[0m\u001b[0m_jit_compile\u001b[0m\u001b[0;34m)\u001b[0m\u001b[0;34m:\u001b[0m\u001b[0;34m\u001b[0m\u001b[0;34m\u001b[0m\u001b[0m\n\u001b[0;32m--> 825\u001b[0;31m         \u001b[0mresult\u001b[0m \u001b[0;34m=\u001b[0m \u001b[0mself\u001b[0m\u001b[0;34m.\u001b[0m\u001b[0m_call\u001b[0m\u001b[0;34m(\u001b[0m\u001b[0;34m*\u001b[0m\u001b[0margs\u001b[0m\u001b[0;34m,\u001b[0m \u001b[0;34m**\u001b[0m\u001b[0mkwds\u001b[0m\u001b[0;34m)\u001b[0m\u001b[0;34m\u001b[0m\u001b[0;34m\u001b[0m\u001b[0m\n\u001b[0m\u001b[1;32m    826\u001b[0m \u001b[0;34m\u001b[0m\u001b[0m\n\u001b[1;32m    827\u001b[0m       \u001b[0mnew_tracing_count\u001b[0m \u001b[0;34m=\u001b[0m \u001b[0mself\u001b[0m\u001b[0;34m.\u001b[0m\u001b[0mexperimental_get_tracing_count\u001b[0m\u001b[0;34m(\u001b[0m\u001b[0;34m)\u001b[0m\u001b[0;34m\u001b[0m\u001b[0;34m\u001b[0m\u001b[0m\n",
            "\u001b[0;32m/usr/local/lib/python3.10/dist-packages/tensorflow/python/eager/polymorphic_function/polymorphic_function.py\u001b[0m in \u001b[0;36m_call\u001b[0;34m(self, *args, **kwds)\u001b[0m\n\u001b[1;32m    855\u001b[0m       \u001b[0;31m# In this case we have created variables on the first call, so we run the\u001b[0m\u001b[0;34m\u001b[0m\u001b[0;34m\u001b[0m\u001b[0m\n\u001b[1;32m    856\u001b[0m       \u001b[0;31m# defunned version which is guaranteed to never create variables.\u001b[0m\u001b[0;34m\u001b[0m\u001b[0;34m\u001b[0m\u001b[0m\n\u001b[0;32m--> 857\u001b[0;31m       \u001b[0;32mreturn\u001b[0m \u001b[0mself\u001b[0m\u001b[0;34m.\u001b[0m\u001b[0m_no_variable_creation_fn\u001b[0m\u001b[0;34m(\u001b[0m\u001b[0;34m*\u001b[0m\u001b[0margs\u001b[0m\u001b[0;34m,\u001b[0m \u001b[0;34m**\u001b[0m\u001b[0mkwds\u001b[0m\u001b[0;34m)\u001b[0m  \u001b[0;31m# pylint: disable=not-callable\u001b[0m\u001b[0;34m\u001b[0m\u001b[0;34m\u001b[0m\u001b[0m\n\u001b[0m\u001b[1;32m    858\u001b[0m     \u001b[0;32melif\u001b[0m \u001b[0mself\u001b[0m\u001b[0;34m.\u001b[0m\u001b[0m_variable_creation_fn\u001b[0m \u001b[0;32mis\u001b[0m \u001b[0;32mnot\u001b[0m \u001b[0;32mNone\u001b[0m\u001b[0;34m:\u001b[0m\u001b[0;34m\u001b[0m\u001b[0;34m\u001b[0m\u001b[0m\n\u001b[1;32m    859\u001b[0m       \u001b[0;31m# Release the lock early so that multiple threads can perform the call\u001b[0m\u001b[0;34m\u001b[0m\u001b[0;34m\u001b[0m\u001b[0m\n",
            "\u001b[0;32m/usr/local/lib/python3.10/dist-packages/tensorflow/python/eager/polymorphic_function/tracing_compiler.py\u001b[0m in \u001b[0;36m__call__\u001b[0;34m(self, *args, **kwargs)\u001b[0m\n\u001b[1;32m    146\u001b[0m       (concrete_function,\n\u001b[1;32m    147\u001b[0m        filtered_flat_args) = self._maybe_define_function(args, kwargs)\n\u001b[0;32m--> 148\u001b[0;31m     return concrete_function._call_flat(\n\u001b[0m\u001b[1;32m    149\u001b[0m         filtered_flat_args, captured_inputs=concrete_function.captured_inputs)  # pylint: disable=protected-access\n\u001b[1;32m    150\u001b[0m \u001b[0;34m\u001b[0m\u001b[0m\n",
            "\u001b[0;32m/usr/local/lib/python3.10/dist-packages/tensorflow/python/eager/polymorphic_function/monomorphic_function.py\u001b[0m in \u001b[0;36m_call_flat\u001b[0;34m(self, args, captured_inputs)\u001b[0m\n\u001b[1;32m   1347\u001b[0m         and executing_eagerly):\n\u001b[1;32m   1348\u001b[0m       \u001b[0;31m# No tape is watching; skip to running the function.\u001b[0m\u001b[0;34m\u001b[0m\u001b[0;34m\u001b[0m\u001b[0m\n\u001b[0;32m-> 1349\u001b[0;31m       \u001b[0;32mreturn\u001b[0m \u001b[0mself\u001b[0m\u001b[0;34m.\u001b[0m\u001b[0m_build_call_outputs\u001b[0m\u001b[0;34m(\u001b[0m\u001b[0mself\u001b[0m\u001b[0;34m.\u001b[0m\u001b[0m_inference_function\u001b[0m\u001b[0;34m(\u001b[0m\u001b[0;34m*\u001b[0m\u001b[0margs\u001b[0m\u001b[0;34m)\u001b[0m\u001b[0;34m)\u001b[0m\u001b[0;34m\u001b[0m\u001b[0;34m\u001b[0m\u001b[0m\n\u001b[0m\u001b[1;32m   1350\u001b[0m     forward_backward = self._select_forward_and_backward_functions(\n\u001b[1;32m   1351\u001b[0m         \u001b[0margs\u001b[0m\u001b[0;34m,\u001b[0m\u001b[0;34m\u001b[0m\u001b[0;34m\u001b[0m\u001b[0m\n",
            "\u001b[0;32m/usr/local/lib/python3.10/dist-packages/tensorflow/python/eager/polymorphic_function/atomic_function.py\u001b[0m in \u001b[0;36m__call__\u001b[0;34m(self, *args)\u001b[0m\n\u001b[1;32m    194\u001b[0m         \u001b[0;32mwith\u001b[0m \u001b[0mrecord\u001b[0m\u001b[0;34m.\u001b[0m\u001b[0mstop_recording\u001b[0m\u001b[0;34m(\u001b[0m\u001b[0;34m)\u001b[0m\u001b[0;34m:\u001b[0m\u001b[0;34m\u001b[0m\u001b[0;34m\u001b[0m\u001b[0m\n\u001b[1;32m    195\u001b[0m           \u001b[0;32mif\u001b[0m \u001b[0mself\u001b[0m\u001b[0;34m.\u001b[0m\u001b[0m_bound_context\u001b[0m\u001b[0;34m.\u001b[0m\u001b[0mexecuting_eagerly\u001b[0m\u001b[0;34m(\u001b[0m\u001b[0;34m)\u001b[0m\u001b[0;34m:\u001b[0m\u001b[0;34m\u001b[0m\u001b[0;34m\u001b[0m\u001b[0m\n\u001b[0;32m--> 196\u001b[0;31m             outputs = self._bound_context.call_function(\n\u001b[0m\u001b[1;32m    197\u001b[0m                 \u001b[0mself\u001b[0m\u001b[0;34m.\u001b[0m\u001b[0mname\u001b[0m\u001b[0;34m,\u001b[0m\u001b[0;34m\u001b[0m\u001b[0;34m\u001b[0m\u001b[0m\n\u001b[1;32m    198\u001b[0m                 \u001b[0mlist\u001b[0m\u001b[0;34m(\u001b[0m\u001b[0margs\u001b[0m\u001b[0;34m)\u001b[0m\u001b[0;34m,\u001b[0m\u001b[0;34m\u001b[0m\u001b[0;34m\u001b[0m\u001b[0m\n",
            "\u001b[0;32m/usr/local/lib/python3.10/dist-packages/tensorflow/python/eager/context.py\u001b[0m in \u001b[0;36mcall_function\u001b[0;34m(self, name, tensor_inputs, num_outputs)\u001b[0m\n\u001b[1;32m   1455\u001b[0m     \u001b[0mcancellation_context\u001b[0m \u001b[0;34m=\u001b[0m \u001b[0mcancellation\u001b[0m\u001b[0;34m.\u001b[0m\u001b[0mcontext\u001b[0m\u001b[0;34m(\u001b[0m\u001b[0;34m)\u001b[0m\u001b[0;34m\u001b[0m\u001b[0;34m\u001b[0m\u001b[0m\n\u001b[1;32m   1456\u001b[0m     \u001b[0;32mif\u001b[0m \u001b[0mcancellation_context\u001b[0m \u001b[0;32mis\u001b[0m \u001b[0;32mNone\u001b[0m\u001b[0;34m:\u001b[0m\u001b[0;34m\u001b[0m\u001b[0;34m\u001b[0m\u001b[0m\n\u001b[0;32m-> 1457\u001b[0;31m       outputs = execute.execute(\n\u001b[0m\u001b[1;32m   1458\u001b[0m           \u001b[0mname\u001b[0m\u001b[0;34m.\u001b[0m\u001b[0mdecode\u001b[0m\u001b[0;34m(\u001b[0m\u001b[0;34m\"utf-8\"\u001b[0m\u001b[0;34m)\u001b[0m\u001b[0;34m,\u001b[0m\u001b[0;34m\u001b[0m\u001b[0;34m\u001b[0m\u001b[0m\n\u001b[1;32m   1459\u001b[0m           \u001b[0mnum_outputs\u001b[0m\u001b[0;34m=\u001b[0m\u001b[0mnum_outputs\u001b[0m\u001b[0;34m,\u001b[0m\u001b[0;34m\u001b[0m\u001b[0;34m\u001b[0m\u001b[0m\n",
            "\u001b[0;32m/usr/local/lib/python3.10/dist-packages/tensorflow/python/eager/execute.py\u001b[0m in \u001b[0;36mquick_execute\u001b[0;34m(op_name, num_outputs, inputs, attrs, ctx, name)\u001b[0m\n\u001b[1;32m     51\u001b[0m   \u001b[0;32mtry\u001b[0m\u001b[0;34m:\u001b[0m\u001b[0;34m\u001b[0m\u001b[0;34m\u001b[0m\u001b[0m\n\u001b[1;32m     52\u001b[0m     \u001b[0mctx\u001b[0m\u001b[0;34m.\u001b[0m\u001b[0mensure_initialized\u001b[0m\u001b[0;34m(\u001b[0m\u001b[0;34m)\u001b[0m\u001b[0;34m\u001b[0m\u001b[0;34m\u001b[0m\u001b[0m\n\u001b[0;32m---> 53\u001b[0;31m     tensors = pywrap_tfe.TFE_Py_Execute(ctx._handle, device_name, op_name,\n\u001b[0m\u001b[1;32m     54\u001b[0m                                         inputs, attrs, num_outputs)\n\u001b[1;32m     55\u001b[0m   \u001b[0;32mexcept\u001b[0m \u001b[0mcore\u001b[0m\u001b[0;34m.\u001b[0m\u001b[0m_NotOkStatusException\u001b[0m \u001b[0;32mas\u001b[0m \u001b[0me\u001b[0m\u001b[0;34m:\u001b[0m\u001b[0;34m\u001b[0m\u001b[0;34m\u001b[0m\u001b[0m\n",
            "\u001b[0;31mKeyboardInterrupt\u001b[0m: "
          ]
        }
      ]
    },
    {
      "cell_type": "code",
      "source": [
        "model.save(\"model.h5\")\n"
      ],
      "metadata": {
        "id": "PKerQMNzOLOx"
      },
      "execution_count": null,
      "outputs": []
    }
  ],
  "metadata": {
    "accelerator": "GPU",
    "colab": {
      "provenance": [],
      "gpuType": "T4"
    },
    "kernelspec": {
      "display_name": "Python 3",
      "name": "python3"
    },
    "language_info": {
      "codemirror_mode": {
        "name": "ipython",
        "version": 3
      },
      "file_extension": ".py",
      "mimetype": "text/x-python",
      "name": "python",
      "nbconvert_exporter": "python",
      "pygments_lexer": "ipython3",
      "version": "3.9.17"
    }
  },
  "nbformat": 4,
  "nbformat_minor": 0
}