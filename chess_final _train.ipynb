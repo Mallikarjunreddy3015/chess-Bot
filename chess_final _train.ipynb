{
  "cells": [
    {
      "cell_type": "code",
      "execution_count": 16,
      "metadata": {
        "colab": {
          "base_uri": "https://localhost:8080/"
        },
        "id": "uXu6D-nv_Z3N",
        "outputId": "a79f63ea-3ab5-4382-95fd-55bbf1e3cccb",
        "executionInfo": {
          "status": "ok",
          "timestamp": 1696513876840,
          "user_tz": -330,
          "elapsed": 11608,
          "user": {
            "displayName": "",
            "userId": ""
          }
        }
      },
      "outputs": [
        {
          "output_type": "stream",
          "name": "stdout",
          "text": [
            "Requirement already satisfied: python-chess in /usr/local/lib/python3.10/dist-packages (1.999)\n",
            "Requirement already satisfied: chess<2,>=1 in /usr/local/lib/python3.10/dist-packages (from python-chess) (1.10.0)\n",
            "\u001b[33mWARNING: Running pip as the 'root' user can result in broken permissions and conflicting behaviour with the system package manager. It is recommended to use a virtual environment instead: https://pip.pypa.io/warnings/venv\u001b[0m\u001b[33m\n",
            "\u001b[0mRequirement already satisfied: psutil in /usr/local/lib/python3.10/dist-packages (5.9.5)\n",
            "\u001b[33mWARNING: Running pip as the 'root' user can result in broken permissions and conflicting behaviour with the system package manager. It is recommended to use a virtual environment instead: https://pip.pypa.io/warnings/venv\u001b[0m\u001b[33m\n",
            "\u001b[0m"
          ]
        }
      ],
      "source": [
        "!pip install python-chess\n",
        "!pip install psutil\n",
        "\n",
        "import tensorflow as tf\n",
        "from tensorflow.keras import layers\n",
        "import numpy as np\n",
        "import pandas as pd\n",
        "import glob\n",
        "import os\n",
        "import chess\n"
      ]
    },
    {
      "cell_type": "code",
      "execution_count": null,
      "metadata": {
        "id": "FeCoY3TqrFPi",
        "colab": {
          "base_uri": "https://localhost:8080/"
        },
        "outputId": "75a4fcfc-dae9-4a80-9aa7-db6b29dc60b5",
        "executionInfo": {
          "status": "ok",
          "timestamp": 1696513197120,
          "user_tz": -330,
          "elapsed": 8977,
          "user": {
            "displayName": "",
            "userId": ""
          }
        }
      },
      "outputs": [
        {
          "output_type": "stream",
          "name": "stdout",
          "text": [
            "Requirement already satisfied: kaggle in /usr/local/lib/python3.10/dist-packages (1.5.16)\n",
            "Requirement already satisfied: six>=1.10 in /usr/local/lib/python3.10/dist-packages (from kaggle) (1.16.0)\n",
            "Requirement already satisfied: certifi in /usr/local/lib/python3.10/dist-packages (from kaggle) (2023.7.22)\n",
            "Requirement already satisfied: python-dateutil in /usr/local/lib/python3.10/dist-packages (from kaggle) (2.8.2)\n",
            "Requirement already satisfied: requests in /usr/local/lib/python3.10/dist-packages (from kaggle) (2.31.0)\n",
            "Requirement already satisfied: tqdm in /usr/local/lib/python3.10/dist-packages (from kaggle) (4.66.1)\n",
            "Requirement already satisfied: python-slugify in /usr/local/lib/python3.10/dist-packages (from kaggle) (8.0.1)\n",
            "Requirement already satisfied: urllib3 in /usr/local/lib/python3.10/dist-packages (from kaggle) (2.0.4)\n",
            "Requirement already satisfied: bleach in /usr/local/lib/python3.10/dist-packages (from kaggle) (6.0.0)\n",
            "Requirement already satisfied: webencodings in /usr/local/lib/python3.10/dist-packages (from bleach->kaggle) (0.5.1)\n",
            "Requirement already satisfied: text-unidecode>=1.3 in /usr/local/lib/python3.10/dist-packages (from python-slugify->kaggle) (1.3)\n",
            "Requirement already satisfied: charset-normalizer<4,>=2 in /usr/local/lib/python3.10/dist-packages (from requests->kaggle) (3.2.0)\n",
            "Requirement already satisfied: idna<4,>=2.5 in /usr/local/lib/python3.10/dist-packages (from requests->kaggle) (3.4)\n",
            "\u001b[33mWARNING: Running pip as the 'root' user can result in broken permissions and conflicting behaviour with the system package manager. It is recommended to use a virtual environment instead: https://pip.pypa.io/warnings/venv\u001b[0m\u001b[33m\n",
            "\u001b[0mWarning: Your Kaggle API key is readable by other users on this system! To fix this, you can run 'chmod 600 /content/kaggle.json'\n",
            "Downloading chessfendataset.zip to /content\n",
            " 94% 136M/144M [00:02<00:00, 115MB/s] \n",
            "100% 144M/144M [00:02<00:00, 70.9MB/s]\n"
          ]
        }
      ],
      "source": [
        "# from google.colab import drive\n",
        "# drive.mount('/content/drive')\n",
        "\n",
        "!pip install kaggle\n",
        "os.environ['KAGGLE_CONFIG_DIR'] = '/content'\n",
        "!kaggle datasets download -d mallikarjunreddy3015/chessfendataset"
      ]
    },
    {
      "cell_type": "code",
      "source": [
        "import psutil\n",
        "\n",
        "# Get system memory information\n",
        "memory = psutil.virtual_memory()\n",
        "print(f\"Total RAM: {memory.total / (1024 ** 3):.2f} GB\")\n",
        "print(f\"Used RAM: {memory.used / (1024 ** 3):.2f} GB\")\n",
        "print(f\"Free RAM: {memory.free / (1024 ** 3):.2f} GB\")\n"
      ],
      "metadata": {
        "id": "_Kw8L5mmaSlc",
        "outputId": "bb378988-1e7f-49fb-90e1-55e5d52b6785",
        "colab": {
          "base_uri": "https://localhost:8080/"
        },
        "executionInfo": {
          "status": "ok",
          "timestamp": 1696513294264,
          "user_tz": -330,
          "elapsed": 4,
          "user": {
            "displayName": "",
            "userId": ""
          }
        }
      },
      "execution_count": null,
      "outputs": [
        {
          "output_type": "stream",
          "name": "stdout",
          "text": [
            "Total RAM: 56.49 GB\n",
            "Used RAM: 1.73 GB\n",
            "Free RAM: 52.92 GB\n"
          ]
        }
      ]
    },
    {
      "cell_type": "code",
      "source": [
        "import zipfile\n",
        "\n",
        "# Replace 'your-dataset.zip' with the actual zip file name\n",
        "with zipfile.ZipFile('/content/chessfendataset.zip', 'r') as zip_ref:\n",
        "    zip_ref.extractall('/content/chessfendataset')\n"
      ],
      "metadata": {
        "id": "IXadynQ0WgkB"
      },
      "execution_count": null,
      "outputs": []
    },
    {
      "cell_type": "code",
      "execution_count": null,
      "metadata": {
        "id": "bPvv15KtoS7k"
      },
      "outputs": [],
      "source": [
        "dataframe = pd.read_csv('/content/chessfendataset/chessData.csv')"
      ]
    },
    {
      "cell_type": "code",
      "execution_count": null,
      "metadata": {
        "id": "1yQdZKrXsNU3"
      },
      "outputs": [],
      "source": [
        "dataframe.head()\n",
        "d=dataframe"
      ]
    },
    {
      "cell_type": "code",
      "execution_count": null,
      "metadata": {
        "id": "XQdVPluX9Ngk",
        "colab": {
          "base_uri": "https://localhost:8080/"
        },
        "executionInfo": {
          "status": "ok",
          "timestamp": 1696513327233,
          "user_tz": -330,
          "elapsed": 3962,
          "user": {
            "displayName": "",
            "userId": ""
          }
        },
        "outputId": "b2f5c538-9629-47b2-841f-a7c31ebf1c4d"
      },
      "outputs": [
        {
          "output_type": "stream",
          "name": "stdout",
          "text": [
            "(2000000, 2)\n"
          ]
        }
      ],
      "source": [
        "d.shape\n",
        "d1=d.iloc[2000000:4000000  ]\n",
        "print(d1.shape)\n",
        "d1 = d1[~d1['Evaluation'].str.contains('\\ufeff|#', na=False)]\n",
        "d1['Evaluation'] = pd.to_numeric(d1['Evaluation'].str.replace('[^\\d.-]', '', regex=True), errors='coerce')"
      ]
    },
    {
      "cell_type": "code",
      "execution_count": null,
      "metadata": {
        "id": "Evt8Knj7KO-_"
      },
      "outputs": [],
      "source": [
        "d1['Scaled_Evaluation'] = 1000 * (2 * (d1['Evaluation'] +7000) / (14000) - 1)"
      ]
    },
    {
      "cell_type": "code",
      "execution_count": null,
      "metadata": {
        "id": "mBXGrD1GbmOd",
        "colab": {
          "base_uri": "https://localhost:8080/"
        },
        "outputId": "baf40fdd-78e4-4dd0-f1e9-c8affd9ec944"
      },
      "outputs": [
        {
          "output_type": "stream",
          "name": "stdout",
          "text": [
            "100000\n"
          ]
        }
      ],
      "source": [
        "import chess\n",
        "import numpy as np\n",
        "i=0\n",
        "def create_bitboard(fen):\n",
        "    global i\n",
        "    i+=1\n",
        "    # Setting up the piece values\n",
        "    piece_values = {\n",
        "        'P': 11, 'p': -11, 'N': 44, 'n': -44, 'B': 33, 'b': -33, 'R': 55,\n",
        "        'r': -55, 'Q': 99, 'q': -99, 'K': 110, 'k': -110\n",
        "    }\n",
        "\n",
        "    # Mapping piece symbols to bitboard layers\n",
        "    piece_to_layer = {\n",
        "        'P': 0, 'p': 1, 'N': 2, 'n': 3, 'B': 4, 'b': 5, 'R': 6, 'r': 7, 'Q': 8,\n",
        "        'q': 9, 'K': 10, 'k': 11\n",
        "    }\n",
        "\n",
        "    # Create an empty bitboard of shape (12, 8, 8) using numpy\n",
        "    en_passant_layer = 12\n",
        "    white_values_layer = 13\n",
        "    black_values_layer = 14\n",
        "    valid_move_positions_layer = 15\n",
        "\n",
        "    bitboard = np.zeros((16, 8, 8))\n",
        "\n",
        "    board = chess.Board(fen)\n",
        "    if board.ep_square is not None:\n",
        "        rank, file = divmod(board.ep_square, 8)\n",
        "        bitboard[en_passant_layer][rank][file] = 1 if board.turn == chess.WHITE else -1\n",
        "    computed_moves = {}\n",
        "\n",
        "    for piece_type, piece_value in piece_values.items():\n",
        "        layer = piece_to_layer[piece_type]\n",
        "\n",
        "        if piece_type not in computed_moves:\n",
        "            valid_moves = set()\n",
        "            empty_board_moves = set()\n",
        "            for square in chess.SQUARES:\n",
        "                piece = board.piece_at(square)\n",
        "                if piece and piece.symbol() == piece_type:\n",
        "                    # Generate moves for both colors irrespective of turn\n",
        "                    board.turn = chess.WHITE\n",
        "                    moves_white = [move for move in board.legal_moves if move.from_square == square]\n",
        "                    board.turn = chess.BLACK\n",
        "                    moves_black = [move for move in board.legal_moves if move.from_square == square]\n",
        "                    valid_moves.update([move.to_square for move in moves_white])\n",
        "                    valid_moves.update([move.to_square for move in moves_black])\n",
        "\n",
        "                    empty_board = chess.Board()\n",
        "                    empty_board.clear()\n",
        "                    empty_board.set_piece_at(square, piece)\n",
        "                    # Generate moves for both colors irrespective of turn on the empty board\n",
        "                    empty_board.turn = chess.WHITE\n",
        "                    empty_moves_white = [move for move in empty_board.generate_legal_moves(from_mask=chess.BB_SQUARES[square])]\n",
        "                    empty_board.turn = chess.BLACK\n",
        "                    empty_moves_black = [move for move in empty_board.generate_legal_moves(from_mask=chess.BB_SQUARES[square])]\n",
        "                    empty_board_moves.update([move.to_square for move in empty_moves_white])\n",
        "                    empty_board_moves.update([move.to_square for move in empty_moves_black])\n",
        "\n",
        "            computed_moves[piece_type] = (valid_moves, empty_board_moves)\n",
        "\n",
        "        valid_moves, empty_board_moves = computed_moves[piece_type]\n",
        "\n",
        "        for square in chess.SQUARES:\n",
        "            rank, file = divmod(square, 8)\n",
        "            piece = board.piece_at(square)\n",
        "            if piece:\n",
        "                if piece.color == chess.WHITE:\n",
        "                    bitboard[white_values_layer][rank][file] = piece_values[piece.symbol()]\n",
        "                else:\n",
        "                    bitboard[black_values_layer][rank][file] = piece_values[piece.symbol()]\n",
        "            if piece and piece.symbol() == piece_type:\n",
        "                bitboard[layer][rank][file] = piece_value\n",
        "            elif square in valid_moves:\n",
        "                bitboard[layer][rank][file] = piece_value / 11\n",
        "            elif square in empty_board_moves:\n",
        "                bitboard[layer][rank][file] = piece_value / 22\n",
        "        board = chess.Board(fen)\n",
        "        for move in board.legal_moves:\n",
        "            rank, file = divmod(move.from_square, 8)\n",
        "            if board.turn == chess.WHITE:\n",
        "              bitboard[valid_move_positions_layer][rank][file] = 1\n",
        "            else:\n",
        "              bitboard[valid_move_positions_layer][rank][file] = -1\n",
        "    if(i%100000==0):\n",
        "      print(i)\n",
        "    return bitboard\n",
        "\n",
        "bitboard_dataset = [create_bitboard(fen) for fen in np.array(d1['FEN'])]\n",
        "# print(create_bitboard(np.array(d1[\"FEN\"])[1])[15])\n"
      ]
    },
    {
      "cell_type": "code",
      "execution_count": null,
      "metadata": {
        "id": "QFSsXYpsWrou"
      },
      "outputs": [],
      "source": [
        "print(bitboard_dataset[20])"
      ]
    },
    {
      "cell_type": "code",
      "execution_count": null,
      "metadata": {
        "id": "L54mHai3qOOI"
      },
      "outputs": [],
      "source": [
        "# labels=d1['Evaluation']\n",
        "labels=d1['Scaled_Evaluation']"
      ]
    },
    {
      "cell_type": "code",
      "execution_count": null,
      "metadata": {
        "id": "bnfn9WPEni1p"
      },
      "outputs": [],
      "source": [
        "np.save('/content/bitboard_dataset_2-4M.npy', bitboard_dataset)\n",
        "np.save('/content/labels_dataset_2-4M.npy', labels)\n",
        "\n",
        "# # bitboard_dataset=np.load(\"/content/chess-numpy-dataset/bitboard_dataset_1M.npy\")\n",
        "# # labels=np.load(\"/content/chess-numpy-dataset/labels_dataset.npy\")"
      ]
    },
    {
      "cell_type": "code",
      "source": [
        "import os\n",
        "os.environ[\"GOOGLE_APPLICATION_CREDENTIALS\"] = \"/content/gleaming-modem-400906-3780658b0f47.json\"\n",
        "!pip install google-cloud-storage\n",
        "\n",
        "\n",
        "from google.cloud import storage\n",
        "\n",
        "def upload_to_bucket(blob_name, path_to_file, bucket_name):\n",
        "    client = storage.Client()\n",
        "    bucket = client.get_bucket(bucket_name)\n",
        "    blob = bucket.blob(blob_name)\n",
        "    blob.upload_from_filename(path_to_file)\n",
        "    print(f\"File {path_to_file} uploaded to {blob_name}.\")\n",
        "\n",
        "# Use the function to upload your file:\n",
        "upload_to_bucket(\"bitboard_dataset_2-4M.npy\", \"/content/bitboard_dataset_2-4M.npy\", \"chess_data_all\")\n",
        "upload_to_bucket(\"labels_dataset_2-4M.npy\", \"/content/labels_dataset_2-4M.npy\", \"chess_data_all\")\n"
      ],
      "metadata": {
        "id": "tQeo2FuNIIkp"
      },
      "execution_count": null,
      "outputs": []
    }
  ],
  "metadata": {
    "accelerator": "GPU",
    "colab": {
      "provenance": [],
      "gpuType": "T4"
    },
    "kernelspec": {
      "display_name": "Python 3",
      "name": "python3"
    },
    "language_info": {
      "codemirror_mode": {
        "name": "ipython",
        "version": 3
      },
      "file_extension": ".py",
      "mimetype": "text/x-python",
      "name": "python",
      "nbconvert_exporter": "python",
      "pygments_lexer": "ipython3",
      "version": "3.9.17"
    }
  },
  "nbformat": 4,
  "nbformat_minor": 0
}